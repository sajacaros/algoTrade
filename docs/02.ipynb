{
 "cells": [
  {
   "cell_type": "markdown",
   "metadata": {
    "collapsed": true,
    "pycharm": {
     "name": "#%% md\n"
    }
   },
   "source": [
    "# CHAPTER 2 금융 데이터 분석을 위한 파이썬 활용법\n",
    "* 2.1 datetime, numpy, pandas\n",
    "* 2.2 데이터 전처리\n",
    "* 2.3 파이썬 API 활용법\n",
    "\n",
    "## 2.1 날짜와 시간\n",
    "### 2.1.1 파이썬 라이브러리\n",
    "* 표준 파이썬 datetime 날짜와 시간\n",
    "    * time\n",
    "        * 시간 기능만 제공\n",
    "    * date\n",
    "        * 날짜 기능만 제공\n",
    "    * datetime\n",
    "        * 날짜와 시간 기능을 제공\n",
    "    * timedelta\n",
    "        * datetime 인스턴스 간의 차이를 구함"
   ]
  },
  {
   "cell_type": "code",
   "execution_count": 2,
   "outputs": [
    {
     "name": "stdout",
     "output_type": "stream",
     "text": [
      "<class 'datetime.datetime'>\n",
      "2023-06-24 00:02:01\n"
     ]
    }
   ],
   "source": [
    "# str -> datetime\n",
    "from datetime import datetime\n",
    "\n",
    "format = '%Y-%m-%d %H:%M:%S'\n",
    "datetime_str = '2023-06-24 00:02:01'\n",
    "datetime_dt = datetime.strptime(datetime_str, format)\n",
    "print(type(datetime_dt))\n",
    "print(datetime_dt)"
   ],
   "metadata": {
    "collapsed": false,
    "pycharm": {
     "name": "#%%\n"
    }
   }
  },
  {
   "cell_type": "code",
   "execution_count": 4,
   "outputs": [
    {
     "name": "stdout",
     "output_type": "stream",
     "text": [
      "<class 'str'>\n",
      "2023-06-24 00:02:01\n"
     ]
    }
   ],
   "source": [
    "# datetime -> str\n",
    "datetime_str = datetime_dt.strftime(format)\n",
    "print(type(datetime_str))\n",
    "print(datetime_str)"
   ],
   "metadata": {
    "collapsed": false,
    "pycharm": {
     "name": "#%%\n"
    }
   }
  },
  {
   "cell_type": "code",
   "execution_count": null,
   "outputs": [],
   "source": [
    "from datetime import date\n",
    "from datetime import time\n",
    "from datetime import timedelta"
   ],
   "metadata": {
    "collapsed": false,
    "pycharm": {
     "name": "#%%\n"
    }
   }
  },
  {
   "cell_type": "markdown",
   "source": [
    "### 2.1.2 넘파이 라이브러리\n",
    "* datetime64 객체로 표현\n",
    "* 생성방식\n",
    "    * ISO 8601 국제 표준 방식\n",
    "    * 유닉스 시각을 이용한 방식"
   ],
   "metadata": {
    "collapsed": false
   }
  },
  {
   "cell_type": "code",
   "execution_count": 5,
   "outputs": [
    {
     "name": "stdout",
     "output_type": "stream",
     "text": [
      "2019-01-01\n",
      "1970-01-01T00:00:00.000001000\n",
      "1972-09-27\n"
     ]
    }
   ],
   "source": [
    "import numpy as np\n",
    "\n",
    "print(np.datetime64('2019-01-01'))\n",
    "print(np.datetime64(1000, 'ns'))\n",
    "print(np.datetime64(1000, 'D'))"
   ],
   "metadata": {
    "collapsed": false,
    "pycharm": {
     "name": "#%%\n"
    }
   }
  },
  {
   "cell_type": "code",
   "execution_count": 9,
   "outputs": [
    {
     "name": "stdout",
     "output_type": "stream",
     "text": [
      "['2008-01-02' '2006-01-13' '2023-12-16']\n"
     ]
    }
   ],
   "source": [
    "# array 함수를 이용한 날짜 생성\n",
    "print(np.array(['2008-01-02', '2006-01-13', '2023-12-16'], dtype='datetime64'))"
   ],
   "metadata": {
    "collapsed": false,
    "pycharm": {
     "name": "#%%\n"
    }
   }
  },
  {
   "cell_type": "code",
   "execution_count": 15,
   "outputs": [
    {
     "name": "stdout",
     "output_type": "stream",
     "text": [
      "['2023-02-01' '2023-02-02' '2023-02-03' '2023-02-04' '2023-02-05'\n",
      " '2023-02-06' '2023-02-07' '2023-02-08' '2023-02-09' '2023-02-10'\n",
      " '2023-02-11' '2023-02-12' '2023-02-13' '2023-02-14' '2023-02-15'\n",
      " '2023-02-16' '2023-02-17' '2023-02-18' '2023-02-19' '2023-02-20'\n",
      " '2023-02-21' '2023-02-22' '2023-02-23' '2023-02-24' '2023-02-25'\n",
      " '2023-02-26' '2023-02-27' '2023-02-28']\n",
      "['2022-01' '2022-02' '2022-03' '2022-04' '2022-05']\n"
     ]
    }
   ],
   "source": [
    "# arange 함수를 이용한 날짜 생성\n",
    "print(np.arange('2023-02-01', '2023-03', dtype='datetime64[D]'))\n",
    "print(np.arange('2022', '2022-06', dtype='datetime64[M]'))"
   ],
   "metadata": {
    "collapsed": false,
    "pycharm": {
     "name": "#%%\n"
    }
   }
  },
  {
   "cell_type": "code",
   "execution_count": 16,
   "outputs": [
    {
     "name": "stdout",
     "output_type": "stream",
     "text": [
      "5089 days\n"
     ]
    }
   ],
   "source": [
    "# 시간 간격 구하기\n",
    "print( np.datetime64('2023-06-24') - np.datetime64('2009-07-18') )"
   ],
   "metadata": {
    "collapsed": false,
    "pycharm": {
     "name": "#%%\n"
    }
   }
  },
  {
   "cell_type": "markdown",
   "source": [
    "\n",
    "### 2.1.3 판다스 라이브러리\n",
    "* Timestamp 클래스\n",
    "    * 하나의 날짜를 가리킴\n",
    "* DatetimeIndex 클래스\n",
    "    * 두 개 이상의 날짜를 가리킴"
   ],
   "metadata": {
    "collapsed": false
   }
  },
  {
   "cell_type": "code",
   "execution_count": 20,
   "outputs": [
    {
     "name": "stdout",
     "output_type": "stream",
     "text": [
      "<class 'pandas._libs.tslibs.timestamps.Timestamp'>\n",
      "<class 'pandas._libs.tslibs.timestamps.Timestamp'>\n",
      "DatetimeIndex(['2023-02-14', '2023-03-14'], dtype='datetime64[ns]', freq=None)\n",
      "DatetimeIndex(['2023-02-14', '2023-02-15', '2023-02-16', '2023-02-17',\n",
      "               '2023-02-18', '2023-02-19', '2023-02-20', '2023-02-21',\n",
      "               '2023-02-22', '2023-02-23', '2023-02-24', '2023-02-25',\n",
      "               '2023-02-26', '2023-02-27', '2023-02-28', '2023-03-01',\n",
      "               '2023-03-02', '2023-03-03', '2023-03-04', '2023-03-05',\n",
      "               '2023-03-06', '2023-03-07', '2023-03-08', '2023-03-09',\n",
      "               '2023-03-10', '2023-03-11', '2023-03-12', '2023-03-13',\n",
      "               '2023-03-14'],\n",
      "              dtype='datetime64[ns]', freq='D')\n"
     ]
    }
   ],
   "source": [
    "import pandas as pd\n",
    "\n",
    "print(type(pd.Timestamp('2023-02-14')))\n",
    "print(type(pd.to_datetime('2023-02-14')))\n",
    "print(pd.to_datetime(['2023-02-14', '2023-03-14']))\n",
    "print(pd.date_range('2023-02-14', '2023-03-14'))"
   ],
   "metadata": {
    "collapsed": false,
    "pycharm": {
     "name": "#%%\n"
    }
   }
  },
  {
   "cell_type": "markdown",
   "source": [
    "* Period 클래스\n",
    "    * 하나의 기간을 가리킴\n",
    "* PeriodIndex 클래스\n",
    "    * 두 개 이상의 기간을 가리킴"
   ],
   "metadata": {
    "collapsed": false
   }
  },
  {
   "cell_type": "code",
   "execution_count": 22,
   "outputs": [
    {
     "name": "stdout",
     "output_type": "stream",
     "text": [
      "2023-01\n",
      "2023-05-01\n",
      "PeriodIndex(['2019-01-01', '2019-01-02', '2019-01-03', '2019-01-04',\n",
      "             '2019-01-05', '2019-01-06', '2019-01-07', '2019-01-08',\n",
      "             '2019-01-09', '2019-01-10', '2019-01-11', '2019-01-12',\n",
      "             '2019-01-13', '2019-01-14', '2019-01-15', '2019-01-16',\n",
      "             '2019-01-17', '2019-01-18', '2019-01-19', '2019-01-20',\n",
      "             '2019-01-21', '2019-01-22', '2019-01-23', '2019-01-24',\n",
      "             '2019-01-25', '2019-01-26', '2019-01-27', '2019-01-28',\n",
      "             '2019-01-29', '2019-01-30', '2019-01-31', '2019-02-01'],\n",
      "            dtype='period[D]')\n"
     ]
    }
   ],
   "source": [
    "print( pd.Period('2023-01') )\n",
    "print( pd.Period('2023-05', freq='D') )\n",
    "print( pd.period_range('2019-01', '2019-02', freq='D') )"
   ],
   "metadata": {
    "collapsed": false,
    "pycharm": {
     "name": "#%%\n"
    }
   }
  },
  {
   "cell_type": "code",
   "execution_count": 24,
   "outputs": [
    {
     "name": "stdout",
     "output_type": "stream",
     "text": [
      "True\n"
     ]
    }
   ],
   "source": [
    "# Timestamp와 Period 비교\n",
    "p = pd.Period('2023-06-24')\n",
    "now = pd.Timestamp('2023-06-24 01:27')\n",
    "print( p.start_time < now < p.end_time )"
   ],
   "metadata": {
    "collapsed": false,
    "pycharm": {
     "name": "#%%\n"
    }
   }
  },
  {
   "cell_type": "markdown",
   "source": [
    "## 2.2 금융 데이터 전처리와 분석을 위한 판다스 사용법\n",
    "### 2.2.1 가장 중요한 준비 과정 - 데이터 불러오기"
   ],
   "metadata": {
    "collapsed": false
   }
  },
  {
   "cell_type": "code",
   "execution_count": 26,
   "outputs": [
    {
     "name": "stdout",
     "output_type": "stream",
     "text": [
      "         Date  Trend\n",
      "0  2022-06-26     12\n",
      "1  2022-07-03      6\n",
      "2  2022-07-10      9\n",
      "3  2022-07-17     12\n",
      "4  2022-07-24      8\n"
     ]
    }
   ],
   "source": [
    "# CSV 파일 읽기\n",
    "battery_trends = pd.read_csv('../data/ch01/trend_ecopro.csv')\n",
    "print(battery_trends.head())"
   ],
   "metadata": {
    "collapsed": false,
    "pycharm": {
     "name": "#%%\n"
    }
   }
  },
  {
   "cell_type": "code",
   "execution_count": 29,
   "outputs": [
    {
     "name": "stdout",
     "output_type": "stream",
     "text": [
      "            Trend\n",
      "Date             \n",
      "2022-06-26     12\n",
      "2022-07-03      6\n",
      "2022-07-10      9\n",
      "2022-07-17     12\n",
      "2022-07-24      8\n",
      "<class 'pandas.core.indexes.datetimes.DatetimeIndex'>\n",
      "<class 'pandas._libs.tslibs.timestamps.Timestamp'>\n"
     ]
    }
   ],
   "source": [
    "# CSV 파일 읽기 - Datetime\n",
    "battery_trends = pd.read_csv('../data/ch01/trend_ecopro.csv', parse_dates=True, index_col='Date')\n",
    "print(battery_trends.head())\n",
    "print(type(battery_trends.index))\n",
    "print(type(battery_trends.index[0]))"
   ],
   "metadata": {
    "collapsed": false,
    "pycharm": {
     "name": "#%%\n"
    }
   }
  },
  {
   "cell_type": "markdown",
   "source": [
    "### 2.2.2 에러의 주된 원인 제거 - 결측치와 이상치 다루기"
   ],
   "metadata": {
    "collapsed": false
   }
  },
  {
   "cell_type": "code",
   "execution_count": 31,
   "outputs": [
    {
     "name": "stdout",
     "output_type": "stream",
     "text": [
      "    S1   S2   S3\n",
      "0  1.0  1.0  1.0\n",
      "1  NaN  2.0  2.0\n",
      "2  3.0  NaN  3.0\n",
      "3  4.0  4.0  NaN\n",
      "4  5.0  5.0  5.0\n"
     ]
    }
   ],
   "source": [
    "# 예제 데이터셋 만들기\n",
    "s1 = pd.Series([1, np.nan, 3, 4, 5])\n",
    "s2 = pd.Series([1, 2, np.nan, 4, 5])\n",
    "s3 = pd.Series([1, 2, 3, np.nan, 5])\n",
    "df = pd.DataFrame({'S1': s1, 'S2':s2, 'S3':s3})\n",
    "print(df.head())"
   ],
   "metadata": {
    "collapsed": false,
    "pycharm": {
     "name": "#%%\n"
    }
   }
  },
  {
   "cell_type": "code",
   "execution_count": 35,
   "outputs": [
    {
     "name": "stdout",
     "output_type": "stream",
     "text": [
      "0    False\n",
      "1     True\n",
      "2    False\n",
      "3    False\n",
      "4    False\n",
      "Name: S1, dtype: bool\n",
      "      S1     S2     S3\n",
      "0  False  False  False\n",
      "1   True  False  False\n",
      "2  False   True  False\n",
      "3  False  False   True\n",
      "4  False  False  False\n",
      "S1    1\n",
      "S2    1\n",
      "S3    1\n",
      "dtype: int64\n"
     ]
    }
   ],
   "source": [
    "# 결측치 확인하기\n",
    "print( df['S1'].isna() )\n",
    "print( df.isna() )\n",
    "print( df.isna().sum() )"
   ],
   "metadata": {
    "collapsed": false,
    "pycharm": {
     "name": "#%%\n"
    }
   }
  },
  {
   "cell_type": "code",
   "execution_count": 40,
   "outputs": [
    {
     "name": "stdout",
     "output_type": "stream",
     "text": [
      "    S1   S2   S3\n",
      "0  1.0  1.0  1.0\n",
      "1  0.0  2.0  2.0\n",
      "2  3.0  0.0  3.0\n",
      "3  4.0  4.0  0.0\n",
      "4  5.0  5.0  5.0\n",
      "    S1   S2   S3\n",
      "0  1.0  1.0  1.0\n",
      "1  1.0  2.0  2.0\n",
      "2  3.0  2.0  3.0\n",
      "3  4.0  4.0  3.0\n",
      "4  5.0  5.0  5.0\n",
      "    S1   S2   S3\n",
      "0  1.0  1.0  1.0\n",
      "1  3.0  2.0  2.0\n",
      "2  3.0  4.0  3.0\n",
      "3  4.0  4.0  5.0\n",
      "4  5.0  5.0  5.0\n",
      "    S1   S2   S3\n",
      "0  1.0  1.0  1.0\n",
      "4  5.0  5.0  5.0\n",
      "Empty DataFrame\n",
      "Columns: []\n",
      "Index: [0, 1, 2, 3, 4]\n"
     ]
    }
   ],
   "source": [
    "# 결측치 대체하기\n",
    "print(df.fillna(0).head())\n",
    "print(df.fillna(method='ffill').head())\n",
    "print(df.fillna(method='bfill').head())\n",
    "print(df.dropna())\n",
    "print(df.dropna(axis=1))"
   ],
   "metadata": {
    "collapsed": false,
    "pycharm": {
     "name": "#%%\n"
    }
   }
  },
  {
   "cell_type": "code",
   "execution_count": 42,
   "outputs": [],
   "source": [
    "# 응용\n",
    "import FinanceDataReader as fdr\n",
    "\n",
    "battery_trends = pd.read_csv('../data/ch01/trend_ecopro.csv', parse_dates=True, index_col='Date')\n",
    "ecopro = fdr.DataReader('086520', start='2022-06')[['Close']]\n",
    "merge_df = pd.concat([battery_trends, ecopro], axis=1, join='outer').fillna(method='ffill').dropna()"
   ],
   "metadata": {
    "collapsed": false,
    "pycharm": {
     "name": "#%%\n"
    }
   }
  },
  {
   "cell_type": "markdown",
   "source": [
    "### 2.2.3 데이터 선택 방법 - 슬라이싱, 인덱싱, 서브셋 데이터 추출"
   ],
   "metadata": {
    "collapsed": false
   }
  },
  {
   "cell_type": "code",
   "execution_count": 48,
   "outputs": [
    {
     "name": "stdout",
     "output_type": "stream",
     "text": [
      "             Open   High    Low  Close  Volume    Change\n",
      "Date                                                    \n",
      "2022-06-02  79357  79746  78677  79358  131577 -0.009696\n",
      "2022-06-03  80134  80426  78580  78678  178962 -0.008569\n",
      "2022-06-07  78386  78386  75666  75764  309835 -0.037037\n",
      "2022-06-08  76346  76832  74986  75375  186602 -0.005134\n",
      "2022-06-09  74986  76346  74015  76055  217860  0.009022\n",
      "Date\n",
      "2022-06-02    79357\n",
      "2022-06-03    80134\n",
      "2022-06-07    78386\n",
      "2022-06-08    76346\n",
      "2022-06-09    74986\n",
      "Name: Open, dtype: int64\n",
      "             Open   High\n",
      "Date                    \n",
      "2022-06-02  79357  79746\n",
      "2022-06-03  80134  80426\n",
      "2022-06-07  78386  78386\n",
      "2022-06-08  76346  76832\n",
      "2022-06-09  74986  76346\n",
      "             Open   High    Low  Close  Volume    Change\n",
      "Date                                                    \n",
      "2022-06-02  79357  79746  78677  79358  131577 -0.009696\n",
      "2022-06-03  80134  80426  78580  78678  178962 -0.008569\n",
      "2022-06-07  78386  78386  75666  75764  309835 -0.037037\n",
      "             Open   High    Low  Close   Volume    Change\n",
      "Date                                                     \n",
      "2022-06-02  79357  79746  78677  79358   131577 -0.009696\n",
      "2022-06-03  80134  80426  78580  78678   178962 -0.008569\n",
      "2022-06-07  78386  78386  75666  75764   309835 -0.037037\n",
      "2022-06-08  76346  76832  74986  75375   186602 -0.005134\n",
      "2022-06-09  74986  76346  74015  76055   217860  0.009022\n",
      "2022-06-10  75083  75569  74500  74501   229818 -0.020433\n",
      "2022-06-13  72266  73626  71101  71393   403886 -0.041718\n",
      "2022-06-14  69061  72364  69061  72170   438003  0.010883\n",
      "2022-06-15  72461  74015  69352  69644   390846 -0.035001\n",
      "2022-06-16  71684  74792  71489  72850   325600  0.046034\n",
      "2022-06-17  70907  74792  70907  74112   252315  0.017323\n",
      "2022-06-20  75278  75666  72461  73335   259671 -0.010484\n",
      "2022-06-21  73626  74015  69061  72364   339316 -0.013241\n",
      "2022-06-22  73626  74306  69450  69547   304752 -0.038928\n",
      "2022-06-23  68575  70129  62067  64302   513302 -0.075417\n",
      "2022-06-24  64593  70615  64302  70519   387226  0.096684\n",
      "2022-06-27  74792  77220  71392  73044   921068  0.035806\n",
      "2022-06-28  73141  78192  72655  77124   815696  0.055857\n",
      "2022-06-29  75763  76540  74015  74598   355695 -0.032752\n",
      "2022-06-30  74500  75083  68672  69547   432713 -0.067710\n",
      "2022-07-01  69547  70032  64593  65759   449290 -0.054467\n",
      "2022-07-04  66633  67701  63524  65468   266069 -0.004425\n",
      "2022-07-05  65564  70324  64981  70324   358254  0.074174\n",
      "2022-07-06  69450  70809  67993  68284   201425 -0.029009\n",
      "2022-07-07  69352  70129  68090  68382   113000  0.001435\n",
      "2022-07-08  69644  71198  69352  69353   164693  0.014200\n",
      "2022-07-11  69935  70032  67604  67702   135454 -0.023806\n",
      "2022-07-12  66536  66827  64884  65565   191238 -0.031565\n",
      "2022-07-13  65079  67895  63913  66925   312029  0.020743\n",
      "2022-07-14  73821  77512  71684  73530  2344002  0.098693\n",
      "2022-07-15  72946  80037  72849  77706  1712391  0.056793\n",
      "2022-07-18  78094  78386  73821  76735   698689 -0.012496\n",
      "2022-07-19  75860  87419  75472  85963  1890801  0.120258\n",
      "2022-07-20  86836  93733  86254  87905  1618888  0.022591\n",
      "2022-07-21  88196  89556  84699  86254   967744 -0.018782\n",
      "2022-07-22  87711  92470  87419  89654  1443383  0.039418\n",
      "2022-07-25  89070  92567  89070  89945   668035  0.003246\n",
      "2022-07-26  89459  89653  84311  87031   947337 -0.032398\n",
      "2022-07-27  86642  88973  84602  88780   414421  0.020096\n",
      "2022-07-28  90527  91887  86642  88002   673197 -0.008763\n",
      "2022-07-29  88390  89168  85962  86740   466345 -0.014341\n"
     ]
    }
   ],
   "source": [
    "ecopro = fdr.DataReader('086520', start='2022-06')\n",
    "print(ecopro.head())\n",
    "print(ecopro['Open'].head())\n",
    "# ecopro['Open', 'High']\n",
    "print(ecopro[['Open', 'High']].head())\n",
    "print(ecopro[0:3])\n",
    "print(ecopro['2022':'2022-07'])\n",
    "# print(ecopro[0])"
   ],
   "metadata": {
    "collapsed": false,
    "pycharm": {
     "name": "#%%\n"
    }
   }
  },
  {
   "cell_type": "code",
   "execution_count": 67,
   "outputs": [
    {
     "name": "stdout",
     "output_type": "stream",
     "text": [
      "             Close    Open\n",
      "Date                      \n",
      "2023-01-04  114000  111100\n",
      "2023-01-05  110300  115200\n",
      "2023-01-06  109600  109200\n",
      "2023-01-09  110600  111900\n",
      "2023-01-10  109100  111100\n",
      "2023-01-11  116500  110100\n",
      "2023-01-12  116000  117800\n",
      "2023-01-13  115000  116200\n",
      "2023-01-16  116500  115600\n",
      "2023-01-17  114800  117200\n",
      "2023-01-18  114800  115800\n",
      "2023-01-19  111200  113800\n",
      "2023-01-20  112900  111100\n",
      "2023-01-25  117400  115000\n",
      "2023-01-26  124600  118900\n",
      "2023-01-27  124600  126600\n"
     ]
    }
   ],
   "source": [
    "# loc\n",
    "# print( ecopro.loc['2023-01-04'] )\n",
    "# print( ecopro.loc['2023-01-04':] )\n",
    "print( ecopro.loc['2023-01-04':'2023-01-28', ['Close', 'Open']] )"
   ],
   "metadata": {
    "collapsed": false,
    "pycharm": {
     "name": "#%%\n"
    }
   }
  },
  {
   "cell_type": "code",
   "execution_count": 71,
   "outputs": [
    {
     "name": "stdout",
     "output_type": "stream",
     "text": [
      "              Open    High     Low\n",
      "Date                              \n",
      "2022-10-28  138025  139385  135403\n",
      "2022-10-31  137443  139288  134043\n"
     ]
    }
   ],
   "source": [
    "# iloc\n",
    "print( ecopro.iloc[100:102, [0,1,2]] )\n",
    "# print( ecopro.iloc[100:102, ['Open', 'High', 'Close']] )"
   ],
   "metadata": {
    "collapsed": false,
    "pycharm": {
     "name": "#%%\n"
    }
   }
  },
  {
   "cell_type": "markdown",
   "source": [
    "### 2.2.4 금융 시계열 데이터 분석에 유용한 판다스 함수"
   ],
   "metadata": {
    "collapsed": false
   }
  },
  {
   "cell_type": "code",
   "execution_count": 79,
   "outputs": [
    {
     "name": "stdout",
     "output_type": "stream",
     "text": [
      "            Close  Close_lag1\n",
      "Date                         \n",
      "2022-06-02  79358         NaN\n",
      "2022-06-03  78678     79358.0\n",
      "2022-06-07  75764     78678.0\n",
      "2022-06-08  75375     75764.0\n",
      "2022-06-09  76055     75375.0\n"
     ]
    }
   ],
   "source": [
    "ecopro = ecopro[['Close']]\n",
    "# shift() 함수\n",
    "ecopro['Close_lag1'] = ecopro['Close'].shift()\n",
    "print( ecopro.head() )"
   ],
   "metadata": {
    "collapsed": false,
    "pycharm": {
     "name": "#%%\n"
    }
   }
  },
  {
   "cell_type": "code",
   "execution_count": 105,
   "outputs": [
    {
     "name": "stdout",
     "output_type": "stream",
     "text": [
      "Date\n",
      "2022-06-02         NaN\n",
      "2022-06-03    0.991431\n",
      "2022-06-07    0.962963\n",
      "2022-06-08    0.994866\n",
      "2022-06-09    1.009022\n",
      "                ...   \n",
      "2023-06-19    1.043243\n",
      "2023-06-20    0.990933\n",
      "2023-06-21    0.996078\n",
      "2023-06-22    1.000000\n",
      "2023-06-23    0.994751\n",
      "Name: 일일변화율, Length: 263, dtype: float64\n",
      "Date\n",
      "2022-06-02         NaN\n",
      "2022-06-03    0.991431\n",
      "2022-06-07    0.954712\n",
      "2022-06-08    0.949810\n",
      "2022-06-09    0.958378\n",
      "                ...   \n",
      "2023-06-19    9.728068\n",
      "2023-06-20    9.639860\n",
      "2023-06-21    9.602057\n",
      "2023-06-22    9.602057\n",
      "2023-06-23    9.551652\n",
      "Name: 일일변화율, Length: 263, dtype: float64\n",
      "758000 79358 9.551652007359056\n"
     ]
    }
   ],
   "source": [
    "# pct_change() 함수\n",
    "ecopro['pct_change'] = ecopro['Close'].pct_change()\n",
    "ecopro['일일수익률'] = ecopro['Close'] / ecopro['Close_lag1'] - 1 # (오늘 종가 - 어제 종가) / 어제 종가 = 오늘 종가 / 어제 종가 - 1\n",
    "ecopro['일일변화율'] = ecopro['Close'] / ecopro['Close_lag1']  # 오늘 종가 / 어제 종가\n",
    "print( ecopro['일일변화율'] )\n",
    "print( ecopro['일일변화율'].cumprod() ) # 누적 변화율\n",
    "print( ecopro['Close'][-1], ecopro['Close'][0], ecopro['Close'][-1] / ecopro['Close'][0]) # 누적 변화율\n",
    "# print( ecopro.head() )"
   ],
   "metadata": {
    "collapsed": false,
    "pycharm": {
     "name": "#%%\n"
    }
   }
  },
  {
   "cell_type": "code",
   "execution_count": 89,
   "outputs": [
    {
     "name": "stdout",
     "output_type": "stream",
     "text": [
      "            Close  Close_lag1  pct_change  pct_change2     일일수익률  Close_diff\n",
      "Date                                                                        \n",
      "2022-06-02  79358         NaN         NaN          NaN       NaN         NaN\n",
      "2022-06-03  78678     79358.0   -0.008569    -0.008569 -0.008569      -680.0\n",
      "2022-06-07  75764     78678.0   -0.037037    -0.037037 -0.037037     -2914.0\n",
      "2022-06-08  75375     75764.0   -0.005134    -0.005134 -0.005134      -389.0\n",
      "2022-06-09  76055     75375.0    0.009022     0.009022  0.009022       680.0\n"
     ]
    }
   ],
   "source": [
    "# diff() 함수\n",
    "ecopro['Close_diff'] = ecopro['Close'].diff()\n",
    "print( ecopro.head() )"
   ],
   "metadata": {
    "collapsed": false,
    "pycharm": {
     "name": "#%%\n"
    }
   }
  },
  {
   "cell_type": "code",
   "execution_count": 93,
   "outputs": [
    {
     "name": "stdout",
     "output_type": "stream",
     "text": [
      "Date\n",
      "2022-06-02         NaN\n",
      "2022-06-03         NaN\n",
      "2022-06-07         NaN\n",
      "2022-06-08         NaN\n",
      "2022-06-09     77046.0\n",
      "                ...   \n",
      "2023-06-19    727600.0\n",
      "2023-06-20    730800.0\n",
      "2023-06-21    749800.0\n",
      "2023-06-22    760200.0\n",
      "2023-06-23    763800.0\n",
      "Name: Close, Length: 263, dtype: float64\n",
      "Date\n",
      "2022-06-02          NaN\n",
      "2022-06-03          NaN\n",
      "2022-06-07          NaN\n",
      "2022-06-08          NaN\n",
      "2022-06-09     385230.0\n",
      "                ...    \n",
      "2023-06-19    3638000.0\n",
      "2023-06-20    3654000.0\n",
      "2023-06-21    3749000.0\n",
      "2023-06-22    3801000.0\n",
      "2023-06-23    3819000.0\n",
      "Name: Close, Length: 263, dtype: float64\n",
      "Date\n",
      "2022-06-02         NaN\n",
      "2022-06-03         NaN\n",
      "2022-06-07         NaN\n",
      "2022-06-08         NaN\n",
      "2022-06-09     76055.0\n",
      "                ...   \n",
      "2023-06-19    740000.0\n",
      "2023-06-20    740000.0\n",
      "2023-06-21    762000.0\n",
      "2023-06-22    762000.0\n",
      "2023-06-23    762000.0\n",
      "Name: Close, Length: 263, dtype: float64\n"
     ]
    }
   ],
   "source": [
    "# rolling() 함수\n",
    "print( ecopro['Close'].rolling(window=5).mean() )\n",
    "print( ecopro['Close'].rolling(window=5).sum() )\n",
    "print( ecopro['Close'].rolling(window=5).median() )"
   ],
   "metadata": {
    "collapsed": false,
    "pycharm": {
     "name": "#%%\n"
    }
   }
  },
  {
   "cell_type": "code",
   "execution_count": 107,
   "outputs": [
    {
     "name": "stdout",
     "output_type": "stream",
     "text": [
      "Date\n",
      "2022-06-30   -0.123630\n",
      "2022-07-31    0.319059\n",
      "2022-08-31    0.251637\n",
      "2022-09-30    0.031198\n",
      "2022-10-31    0.210573\n",
      "2022-11-30   -0.007800\n",
      "2022-12-31   -0.250598\n",
      "2023-01-31    0.116364\n",
      "2023-02-28    1.223520\n",
      "2023-03-31    0.812727\n",
      "2023-04-30    0.461461\n",
      "2023-05-31   -0.231924\n",
      "2023-06-30    0.348754\n",
      "Freq: M, Name: Close, dtype: float64\n"
     ]
    }
   ],
   "source": [
    "# resample() 함수\n",
    "print( (ecopro['Close'].resample(rule='M').last() / ecopro['Close'].resample(rule='M').first() -1 ) ) # 월별 수익률"
   ],
   "metadata": {
    "collapsed": false,
    "pycharm": {
     "name": "#%%\n"
    }
   }
  },
  {
   "cell_type": "code",
   "execution_count": 111,
   "outputs": [
    {
     "name": "stdout",
     "output_type": "stream",
     "text": [
      "             Close\n",
      "Date              \n",
      "2023-02-01  128400\n",
      "2023-02-02  131000\n",
      "2023-02-03  137600\n",
      "2023-02-06  146200\n",
      "2023-02-07  165900\n",
      "2023-02-08  172800\n",
      "2023-02-09  191100\n",
      "2023-02-10  188000\n",
      "2023-02-13  196800\n",
      "2023-02-14  197200\n",
      "2023-02-15  213500\n",
      "2023-02-16  239000\n",
      "2023-02-17  220500\n",
      "2023-02-20  236000\n",
      "2023-02-21  248500\n",
      "2023-02-22  237500\n",
      "2023-02-23  242500\n",
      "2023-02-24  242000\n",
      "2023-02-27  280000\n",
      "2023-02-28  285500\n"
     ]
    }
   ],
   "source": [
    "print( ecopro.loc['2023-02', ['Close']] )"
   ],
   "metadata": {
    "collapsed": false,
    "pycharm": {
     "name": "#%%\n"
    }
   }
  },
  {
   "cell_type": "markdown",
   "source": [
    "## 2.3 금융 데이터 분석을 위한 오픈 API 활용\n",
    "### 2.3.1 API\n",
    "* 모듈\n",
    "    * 전역변수, 함수, 클래스 등을 모아둔 파일\n",
    "    * 파일명이 모듈명\n",
    "* 패키지\n",
    "    * 모듈을 디렉토리 형식으로 묶어 놓은 것\n",
    "* 라이브러리\n",
    "    * 만들어 둔 모듈/패키지의 집합체\n",
    "### 2.3.2 FinanceDataReader 사용법\n",
    "\n",
    "## 2.4 마치며\n",
    "* 날짜와 시간 다루는 법과 데이터 전처리에 대해 알아봄\n",
    "* Pandas에서 많이 사용되는 함수들에 대해 알아봄"
   ],
   "metadata": {
    "collapsed": false,
    "pycharm": {
     "name": "#%% md\n"
    }
   }
  }
 ],
 "metadata": {
  "kernelspec": {
   "display_name": "Python 3",
   "language": "python",
   "name": "python3"
  },
  "language_info": {
   "codemirror_mode": {
    "name": "ipython",
    "version": 2
   },
   "file_extension": ".py",
   "mimetype": "text/x-python",
   "name": "python",
   "nbconvert_exporter": "python",
   "pygments_lexer": "ipython2",
   "version": "2.7.6"
  }
 },
 "nbformat": 4,
 "nbformat_minor": 0
}