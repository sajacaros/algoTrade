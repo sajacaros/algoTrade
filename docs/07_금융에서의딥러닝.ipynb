{
 "cells": [
  {
   "cell_type": "markdown",
   "metadata": {
    "collapsed": true,
    "pycharm": {
     "name": "#%% md\n"
    }
   },
   "source": [
    "# CHAPTER 7 금융에서의 딥러닝\n",
    "\n",
    "## 7.1 딥러닝\n",
    "* 인공 신경망 구조를 바탕으로 데이터를 학습\n",
    "* [딥러닝 원리](https://github.com/sajacaros/deep-learning-from-scratch/blob/master/docs/07.md)\n",
    "### 7.1.1 딥러닝과 머신러닝의 차이점\n",
    "* 딥러닝의 학습 방법 특징\n",
    "    * 각 층을 거치며 점진적으로 더 복잡한 표현이 만들어 진다.\n",
    "    * 이런 점진적인 중간 표현이 공동으로 학습된다.\n",
    "### 7.1.2 딥러닝 발전 과정\n",
    "* [딥러닝 발전 과정](https://www.fabianmosele.com/ai-timeline)\n",
    "### 7.1.3 금융 데이터 분석에 딥러닝을 활용하는 이유\n",
    "* 자동으로 특성을 학습하고 추출할 수 있다.\n",
    "* 다중 입력과 출력을 지원한다.\n",
    "* 비교적 길이가 긴 시퀀스에 걸쳐있는 패턴을 추출하는데 탁월하다.\n",
    "### 7.1.4 딥러닝 알고리즘 소개\n",
    "* 합성곱 신경망\n",
    "    * CNN\n",
    "* 순환 신경망\n",
    "    * RNN, LSTM, GRU\n",
    "* 비지도 학습\n",
    "    * 오토인코더\n",
    "* 생성 모델\n",
    "    * GAN, VAE\n",
    "### 7.1.5 딥러닝을 금융 시장 데이터에 적용한 연구\n",
    "* 딥러닝을 활용한 금융 데이터 분석에서 선택한 모델 유형\n",
    "    * RNN -> DMLP -> CNN\n",
    "* RNN 계열 모델 비율\n",
    "    * LSTM -> RNN -> GRU\n",
    "## 7.2 파이토치\n",
    "* https://wikidocs.net/book/2788\n",
    "\n",
    "## 7.3 마치며"
   ]
  }
 ],
 "metadata": {
  "kernelspec": {
   "display_name": "Python 3",
   "language": "python",
   "name": "python3"
  },
  "language_info": {
   "codemirror_mode": {
    "name": "ipython",
    "version": 2
   },
   "file_extension": ".py",
   "mimetype": "text/x-python",
   "name": "python",
   "nbconvert_exporter": "python",
   "pygments_lexer": "ipython2",
   "version": "2.7.6"
  }
 },
 "nbformat": 4,
 "nbformat_minor": 0
}