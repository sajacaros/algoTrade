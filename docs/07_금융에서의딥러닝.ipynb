{
 "cells": [
  {
   "cell_type": "markdown",
   "metadata": {
    "collapsed": true,
    "pycharm": {
     "name": "#%% md\n"
    }
   },
   "source": [
    "# CHAPTER 7 금융에서의 딥러닝\n",
    "\n",
    "## 7.1 딥러닝\n",
    "* 인공 신경망 구조를 바탕으로 데이터를 학습\n",
    "### 7.1.1 딥러닝과 머신러닝의 차이점\n",
    "### 7.1.2 딥러닝 발전 과정\n",
    "### 7.1.3 금융 데이터 분석에 딥러닝을 활용하는 이유\n",
    "### 7.1.4 딥러닝 알고리즘 소개\n",
    "### 7.1.5 딥러닝을 금융 시장 데이터에 적용한 연구\n",
    "\n",
    "## 7.2 딥러닝 알고리즘 구현을 위한 케라스\n",
    "### 7.2.1 케라스 소개\n",
    "### 7.2.2 주요 모듈과 함수\n",
    "### 7.2.3 예제로 살펴보는 케라스 활용법\n",
    "\n",
    "## 7.3 마치며"
   ]
  }
 ],
 "metadata": {
  "kernelspec": {
   "display_name": "Python 3",
   "language": "python",
   "name": "python3"
  },
  "language_info": {
   "codemirror_mode": {
    "name": "ipython",
    "version": 2
   },
   "file_extension": ".py",
   "mimetype": "text/x-python",
   "name": "python",
   "nbconvert_exporter": "python",
   "pygments_lexer": "ipython2",
   "version": "2.7.6"
  }
 },
 "nbformat": 4,
 "nbformat_minor": 0
}