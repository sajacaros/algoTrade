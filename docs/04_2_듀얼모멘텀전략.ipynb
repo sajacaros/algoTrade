{
 "cells": [
  {
   "cell_type": "markdown",
   "metadata": {
    "collapsed": true,
    "pycharm": {
     "name": "#%% md\n"
    }
   },
   "source": [
    "## 4.3 듀얼 모멘텀 전략\n",
    "* 상대 모멘텀\n",
    "    * 투자 자산 가운데 상대적으로 상승 추세가 강한 종목에 투자\n",
    "* 절대 모멘텀\n",
    "    * 과거 시점 대비 현재 시점의 절대적 상승세를 평가\n",
    "* 듀얼 모멘텀\n",
    "    * 게리 안토나치 창시\n",
    "    * 상대 모멘텀과 절대 모멘텀 결합\n",
    "### 4.3.1 듀얼 모멘텀 전략 구현을 위한 절대 모멘텀 전략"
   ]
  },
  {
   "cell_type": "code",
   "execution_count": 1,
   "outputs": [],
   "source": [
    "import pandas as pd\n",
    "import numpy as np\n",
    "import FinanceDataReader as fdr\n",
    "import matplotlib.pyplot as plt\n",
    "from datetime import datetime"
   ],
   "metadata": {
    "collapsed": false,
    "pycharm": {
     "name": "#%%\n"
    }
   }
  },
  {
   "cell_type": "code",
   "execution_count": 2,
   "outputs": [
    {
     "name": "stdout",
     "output_type": "stream",
     "text": [
      "<class 'pandas.core.frame.DataFrame'>\n",
      "DatetimeIndex: 5911 entries, 2000-01-03 to 2023-06-30\n",
      "Data columns (total 1 columns):\n",
      " #   Column  Non-Null Count  Dtype  \n",
      "---  ------  --------------  -----  \n",
      " 0   Close   5911 non-null   float64\n",
      "dtypes: float64(1)\n",
      "memory usage: 92.4 KB\n"
     ]
    }
   ],
   "source": [
    "# df = fdr.DataReader('US500', start='2000')\n",
    "df = fdr.DataReader('spy', start='2000')\n",
    "data = df.loc[:, ['Adj Close']].dropna().copy()\n",
    "data.columns = ['Close']\n",
    "data.info()"
   ],
   "metadata": {
    "collapsed": false,
    "pycharm": {
     "name": "#%%\n"
    }
   }
  },
  {
   "cell_type": "code",
   "execution_count": 3,
   "outputs": [
    {
     "name": "stdout",
     "output_type": "stream",
     "text": [
      "                Close   STD_YM\n",
      "Date                          \n",
      "2000-01-31  90.773834  2000-01\n",
      "2000-02-29  89.391708  2000-02\n",
      "2000-03-31  98.055122  2000-03\n",
      "2000-04-28  94.611313  2000-04\n",
      "2000-05-31  93.123779  2000-05\n"
     ]
    }
   ],
   "source": [
    "# 말일 날짜 추출\n",
    "data['STD_YM'] = data.apply(lambda x: x.name.strftime('%Y-%m'), axis=1)\n",
    "month_last_df = data.drop_duplicates(['STD_YM'], keep=\"last\").copy()\n",
    "print(month_last_df.head())"
   ],
   "metadata": {
    "collapsed": false,
    "pycharm": {
     "name": "#%%\n"
    }
   }
  },
  {
   "cell_type": "code",
   "execution_count": 4,
   "outputs": [
    {
     "name": "stdout",
     "output_type": "stream",
     "text": [
      "                 Close   STD_YM  BF_1M_Close  BF_12M_Close\n",
      "Date                                                      \n",
      "2008-01-31  101.562225  2008-01   108.097893    104.353462\n",
      "2008-02-29   98.937599  2008-02   101.562225    102.306320\n",
      "2008-03-31   98.052849  2008-03    98.937599    103.491920\n",
      "2008-04-30  102.726280  2008-04    98.052849    108.076180\n",
      "2008-05-30  104.279129  2008-05   102.726280    111.742149\n",
      "2008-06-30   95.563911  2008-06   104.279129    110.108398\n",
      "2008-07-31   94.705246  2008-07    95.563911    106.660851\n",
      "2008-08-29   96.168755  2008-08    94.705246    108.029640\n",
      "2008-09-30   87.112213  2008-09    96.168755    112.211983\n",
      "2008-10-31   72.722435  2008-10    87.112213    113.734261\n",
      "2008-11-28   67.660439  2008-11    72.722435    109.329071\n",
      "2008-12-31   68.323288  2008-12    67.660439    108.097893\n",
      "2009-01-30   62.712994  2009-01    68.323288    101.562225\n",
      "2009-02-27   55.974525  2009-02    62.712994     98.937599\n",
      "2009-03-31   60.637814  2009-03    55.974525     98.052849\n"
     ]
    }
   ],
   "source": [
    "# 1개월,12개월 전 값 추출\n",
    "month_last_df['BF_1M_Close'] = month_last_df.shift(1)['Close']\n",
    "month_last_df['BF_12M_Close'] = month_last_df.shift(12)['Close']\n",
    "month_last_df.fillna(0, inplace=True)\n",
    "month_last_df = month_last_df.loc['2008':]\n",
    "print(month_last_df.head(15))"
   ],
   "metadata": {
    "collapsed": false,
    "pycharm": {
     "name": "#%%\n"
    }
   }
  },
  {
   "cell_type": "code",
   "execution_count": 5,
   "outputs": [
    {
     "name": "stdout",
     "output_type": "stream",
     "text": [
      "                 Close   STD_YM trade\n",
      "Date                                 \n",
      "2008-01-02  107.151588  2008-01      \n",
      "2008-01-03  107.099785  2008-01      \n",
      "2008-01-04  104.475174  2008-01      \n",
      "2008-01-07  104.386467  2008-01      \n",
      "2008-01-08  102.700806  2008-01      \n"
     ]
    }
   ],
   "source": [
    "# 포지션 기록\n",
    "book = data['2008':].copy()\n",
    "book['trade'] = ''\n",
    "print(book.head())"
   ],
   "metadata": {
    "collapsed": false,
    "pycharm": {
     "name": "#%%\n"
    }
   }
  },
  {
   "cell_type": "code",
   "execution_count": 6,
   "outputs": [
    {
     "name": "stdout",
     "output_type": "stream",
     "text": [
      "날짜 : 2008-01-31, 모멘텀 인덱스 : 0.035882192389554035, flag : True, signal : buy S&P500\n",
      "날짜 : 2008-02-29, 모멘텀 인덱스 : -0.0072732065819589575, flag : False, signal : \n",
      "날짜 : 2008-03-31, 모멘텀 인덱스 : -0.04400653693544376, flag : False, signal : \n",
      "날짜 : 2008-04-30, 모멘텀 인덱스 : -0.09274320206358144, flag : False, signal : \n",
      "날짜 : 2008-05-30, 모멘텀 인덱스 : -0.08068458572422832, flag : False, signal : \n",
      "날짜 : 2008-06-30, 모멘텀 인덱스 : -0.05294118437723516, flag : False, signal : \n",
      "날짜 : 2008-07-31, 모멘텀 인덱스 : -0.10403948492779225, flag : False, signal : \n",
      "날짜 : 2008-08-29, 모멘텀 인덱스 : -0.12334016849449836, flag : False, signal : \n",
      "날짜 : 2008-09-30, 모멘텀 인덱스 : -0.1429725023217886, flag : False, signal : \n",
      "날짜 : 2008-10-31, 모멘텀 인덱스 : -0.23407236980244683, flag : False, signal : \n",
      "날짜 : 2008-11-28, 모멘텀 인덱스 : -0.33482984594280507, flag : False, signal : \n",
      "날짜 : 2008-12-31, 모멘텀 인덱스 : -0.37408179639542094, flag : False, signal : \n",
      "날짜 : 2009-01-30, 모멘텀 인덱스 : -0.32727657354887596, flag : False, signal : \n",
      "날짜 : 2009-02-27, 모멘텀 인덱스 : -0.3661358812639066, flag : False, signal : \n",
      "날짜 : 2009-03-31, 모멘텀 인덱스 : -0.42913922878467303, flag : False, signal : \n",
      "날짜 : 2009-04-30, 모멘텀 인덱스 : -0.40971469034019337, flag : False, signal : \n",
      "날짜 : 2009-05-29, 모멘텀 인덱스 : -0.3607359052644178, flag : False, signal : \n",
      "날짜 : 2009-06-30, 모멘텀 인덱스 : -0.2616612352753124, flag : False, signal : \n",
      "날짜 : 2009-07-31, 모멘텀 인덱스 : -0.2554547928633225, flag : False, signal : \n",
      "날짜 : 2009-08-31, 모멘텀 인덱스 : -0.21208349842940155, flag : False, signal : \n",
      "날짜 : 2009-09-30, 모멘텀 인덱스 : -0.09803719485349305, flag : False, signal : \n",
      "날짜 : 2009-10-30, 모멘텀 인덱스 : 0.11874610634256122, flag : True, signal : buy S&P500\n",
      "날짜 : 2009-11-30, 모멘텀 인덱스 : 0.1793271545282169, flag : True, signal : buy S&P500\n",
      "날짜 : 2009-12-31, 모멘텀 인덱스 : 0.23983598388883154, flag : True, signal : buy S&P500\n",
      "날짜 : 2010-01-29, 모멘텀 인덱스 : 0.37655201089586, flag : True, signal : buy S&P500\n",
      "날짜 : 2010-02-26, 모멘텀 인덱스 : 0.4862178464221001, flag : True, signal : buy S&P500\n",
      "날짜 : 2010-03-31, 모멘텀 인덱스 : 0.4147177700040441, flag : True, signal : buy S&P500\n",
      "날짜 : 2010-04-30, 모멘텀 인덱스 : 0.36521806165659565, flag : True, signal : buy S&P500\n",
      "날짜 : 2010-05-28, 모멘텀 인덱스 : 0.3097761660034348, flag : True, signal : buy S&P500\n",
      "날짜 : 2010-06-30, 모멘텀 인덱스 : 0.2064987152531903, flag : True, signal : buy S&P500\n",
      "날짜 : 2010-07-30, 모멘텀 인덱스 : 0.0646448510272446, flag : True, signal : buy S&P500\n",
      "날짜 : 2010-08-31, 모멘텀 인덱스 : 0.09684396889802027, flag : True, signal : buy S&P500\n",
      "날짜 : 2010-09-30, 모멘텀 인덱스 : 0.011637081621817424, flag : True, signal : buy S&P500\n",
      "날짜 : 2010-10-29, 모멘텀 인덱스 : 0.12384034682998468, flag : True, signal : buy S&P500\n",
      "날짜 : 2010-11-30, 모멘텀 인덱스 : 0.09906290392746309, flag : True, signal : buy S&P500\n",
      "날짜 : 2010-12-31, 모멘텀 인덱스 : 0.07846333398117489, flag : True, signal : buy S&P500\n",
      "날짜 : 2011-01-31, 모멘텀 인덱스 : 0.1939524755867683, flag : True, signal : buy S&P500\n",
      "날짜 : 2011-02-28, 모멘텀 인덱스 : 0.18481264053893187, flag : True, signal : buy S&P500\n",
      "날짜 : 2011-03-31, 모멘텀 인덱스 : 0.15561542621610758, flag : True, signal : buy S&P500\n",
      "날짜 : 2011-04-29, 모멘텀 인덱스 : 0.13814745978651688, flag : True, signal : buy S&P500\n",
      "날짜 : 2011-05-31, 모멘텀 인덱스 : 0.2721907658552809, flag : True, signal : buy S&P500\n",
      "날짜 : 2011-06-30, 모멘텀 인덱스 : 0.326561844562278, flag : True, signal : buy S&P500\n",
      "날짜 : 2011-07-29, 모멘텀 인덱스 : 0.22080132838255517, flag : True, signal : buy S&P500\n",
      "날짜 : 2011-08-31, 모멘텀 인덱스 : 0.25272846475007316, flag : True, signal : buy S&P500\n",
      "날짜 : 2011-09-30, 모멘텀 인덱스 : 0.0865528085691738, flag : True, signal : buy S&P500\n",
      "날짜 : 2011-10-31, 모멘텀 인덱스 : -0.02608201090131368, flag : False, signal : \n",
      "날짜 : 2011-11-30, 모멘텀 인덱스 : 0.08021851949861425, flag : True, signal : buy S&P500\n",
      "날짜 : 2011-12-30, 모멘텀 인덱스 : 0.00841361582460709, flag : True, signal : buy S&P500\n",
      "날짜 : 2012-01-31, 모멘텀 인덱스 : -0.004251354034014665, flag : False, signal : \n",
      "날짜 : 2012-02-29, 모멘텀 인덱스 : 0.006947608624976009, flag : True, signal : buy S&P500\n",
      "날짜 : 2012-03-30, 모멘텀 인덱스 : 0.0505282820883981, flag : True, signal : buy S&P500\n",
      "날짜 : 2012-04-30, 모멘텀 인덱스 : 0.05379777522210949, flag : True, signal : buy S&P500\n",
      "날짜 : 2012-05-31, 모멘텀 인덱스 : 0.05863498652839283, flag : True, signal : buy S&P500\n",
      "날짜 : 2012-06-29, 모멘텀 인덱스 : 0.012132330880980424, flag : True, signal : buy S&P500\n",
      "날짜 : 2012-07-31, 모멘텀 인덱스 : 0.07470454545212091, flag : True, signal : buy S&P500\n",
      "날짜 : 2012-08-31, 모멘텀 인덱스 : 0.15067743823251645, flag : True, signal : buy S&P500\n",
      "날짜 : 2012-09-28, 모멘텀 인덱스 : 0.2674948986185952, flag : True, signal : buy S&P500\n",
      "날짜 : 2012-10-31, 모멘텀 인덱스 : 0.17173546959500774, flag : True, signal : buy S&P500\n",
      "날짜 : 2012-11-30, 모멘텀 인덱스 : 0.15510635652131843, flag : True, signal : buy S&P500\n",
      "날짜 : 2012-12-31, 모멘텀 인덱스 : 0.14963155106510273, flag : True, signal : buy S&P500\n",
      "날짜 : 2013-01-31, 모멘텀 인덱스 : 0.10849707042343426, flag : True, signal : buy S&P500\n",
      "날짜 : 2013-02-28, 모멘텀 인덱스 : 0.11676800986866454, flag : True, signal : buy S&P500\n",
      "날짜 : 2013-03-28, 모멘텀 인덱스 : 0.09577259168979158, flag : True, signal : buy S&P500\n",
      "날짜 : 2013-04-30, 모멘텀 인덱스 : 0.14502418393470284, flag : True, signal : buy S&P500\n",
      "날짜 : 2013-05-31, 모멘텀 인덱스 : 0.2415867766980746, flag : True, signal : buy S&P500\n",
      "날짜 : 2013-06-28, 모멘텀 인덱스 : 0.2213374066410192, flag : True, signal : buy S&P500\n",
      "날짜 : 2013-07-31, 모멘텀 인덱스 : 0.19095041649999445, flag : True, signal : buy S&P500\n",
      "날짜 : 2013-08-30, 모멘텀 인덱스 : 0.22188422861285884, flag : True, signal : buy S&P500\n",
      "날짜 : 2013-09-30, 모멘텀 인덱스 : 0.1559324720078321, flag : True, signal : buy S&P500\n",
      "날짜 : 2013-10-31, 모멘텀 인덱스 : 0.2146178761585411, flag : True, signal : buy S&P500\n",
      "날짜 : 2013-11-29, 모멘텀 인덱스 : 0.2637109175244714, flag : True, signal : buy S&P500\n",
      "날짜 : 2013-12-31, 모멘텀 인덱스 : 0.28964215842426966, flag : True, signal : buy S&P500\n",
      "날짜 : 2014-01-31, 모멘텀 인덱스 : 0.2586472154849975, flag : True, signal : buy S&P500\n",
      "날짜 : 2014-02-28, 모멘텀 인덱스 : 0.19898426119191792, flag : True, signal : buy S&P500\n",
      "날짜 : 2014-03-31, 모멘텀 인덱스 : 0.20769907071395544, flag : True, signal : buy S&P500\n",
      "날짜 : 2014-04-30, 모멘텀 인덱스 : 0.1947635345395331, flag : True, signal : buy S&P500\n",
      "날짜 : 2014-05-30, 모멘텀 인덱스 : 0.17531967911763569, flag : True, signal : buy S&P500\n",
      "날짜 : 2014-06-30, 모멘텀 인덱스 : 0.21886002550464245, flag : True, signal : buy S&P500\n",
      "날짜 : 2014-07-31, 모멘텀 인덱스 : 0.18289500221472688, flag : True, signal : buy S&P500\n",
      "날짜 : 2014-08-29, 모멘텀 인덱스 : 0.2030835669427291, flag : True, signal : buy S&P500\n",
      "날짜 : 2014-09-30, 모멘텀 인덱스 : 0.21219895704005576, flag : True, signal : buy S&P500\n",
      "날짜 : 2014-10-31, 모멘텀 인덱스 : 0.14256690284937967, flag : True, signal : buy S&P500\n",
      "날짜 : 2014-11-28, 모멘텀 인덱스 : 0.13581207014442542, flag : True, signal : buy S&P500\n",
      "날짜 : 2014-12-31, 모멘텀 인덱스 : 0.13752312789138266, flag : True, signal : buy S&P500\n",
      "날짜 : 2015-01-30, 모멘텀 인덱스 : 0.17609345179965996, flag : True, signal : buy S&P500\n",
      "날짜 : 2015-02-27, 모멘텀 인덱스 : 0.0915629390478685, flag : True, signal : buy S&P500\n",
      "날짜 : 2015-03-31, 모멘텀 인덱스 : 0.14342846218741823, flag : True, signal : buy S&P500\n",
      "날짜 : 2015-04-30, 모멘텀 인덱스 : 0.11770065551654563, flag : True, signal : buy S&P500\n",
      "날짜 : 2015-05-29, 모멘텀 인덱스 : 0.10309335834811728, flag : True, signal : buy S&P500\n",
      "날짜 : 2015-06-30, 모멘텀 인덱스 : 0.094675223226655, flag : True, signal : buy S&P500\n",
      "날짜 : 2015-07-31, 모멘텀 인덱스 : 0.08704744583919921, flag : True, signal : buy S&P500\n",
      "날짜 : 2015-08-31, 모멘텀 인덱스 : 0.06940067900745439, flag : True, signal : buy S&P500\n",
      "날짜 : 2015-09-30, 모멘텀 인덱스 : 0.018268582971551872, flag : True, signal : buy S&P500\n",
      "날짜 : 2015-10-30, 모멘텀 인덱스 : -0.030544705686177842, flag : False, signal : \n",
      "날짜 : 2015-11-30, 모멘텀 인덱스 : 0.023791339569641856, flag : True, signal : buy S&P500\n",
      "날짜 : 2015-12-31, 모멘텀 인덱스 : 0.030146222916402676, flag : True, signal : buy S&P500\n",
      "날짜 : 2016-01-29, 모멘텀 인덱스 : 0.04325385713605279, flag : True, signal : buy S&P500\n",
      "날짜 : 2016-02-29, 모멘텀 인덱스 : -0.061437616233427916, flag : False, signal : \n",
      "날짜 : 2016-03-31, 모멘텀 인덱스 : -0.04724942889760797, flag : False, signal : \n",
      "날짜 : 2016-04-29, 모멘텀 인덱스 : 0.0069361798265006325, flag : True, signal : buy S&P500\n",
      "날짜 : 2016-05-31, 모멘텀 인덱스 : -0.0019267488216463402, flag : False, signal : \n",
      "날짜 : 2016-06-30, 모멘텀 인덱스 : 0.036096988731249, flag : True, signal : buy S&P500\n",
      "날짜 : 2016-07-29, 모멘텀 인덱스 : 0.016731567275359627, flag : True, signal : buy S&P500\n",
      "날짜 : 2016-08-31, 모멘텀 인덱스 : 0.12221237864047185, flag : True, signal : buy S&P500\n",
      "날짜 : 2016-09-30, 모멘텀 인덱스 : 0.1529749819245141, flag : True, signal : buy S&P500\n",
      "날짜 : 2016-10-31, 모멘텀 인덱스 : 0.06265325626931917, flag : True, signal : buy S&P500\n",
      "날짜 : 2016-11-30, 모멘텀 인덱스 : 0.0404270360542196, flag : True, signal : buy S&P500\n",
      "날짜 : 2016-12-30, 모멘텀 인덱스 : 0.09772584055993239, flag : True, signal : buy S&P500\n",
      "날짜 : 2017-01-31, 모멘텀 인덱스 : 0.1786604088190975, flag : True, signal : buy S&P500\n",
      "날짜 : 2017-02-28, 모멘텀 인덱스 : 0.2007439187304636, flag : True, signal : buy S&P500\n",
      "날짜 : 2017-03-31, 모멘텀 인덱스 : 0.16927096950869513, flag : True, signal : buy S&P500\n",
      "날짜 : 2017-04-28, 모멘텀 인덱스 : 0.16613641238361643, flag : True, signal : buy S&P500\n",
      "날짜 : 2017-05-31, 모멘텀 인덱스 : 0.1580122315190593, flag : True, signal : buy S&P500\n",
      "날짜 : 2017-06-30, 모멘텀 인덱스 : 0.17028716596330895, flag : True, signal : buy S&P500\n",
      "날짜 : 2017-07-31, 모멘텀 인덱스 : 0.1363053274757262, flag : True, signal : buy S&P500\n",
      "날짜 : 2017-08-31, 모멘텀 인덱스 : 0.1582741647184167, flag : True, signal : buy S&P500\n",
      "날짜 : 2017-09-29, 모멘텀 인덱스 : 0.1615859922541425, flag : True, signal : buy S&P500\n",
      "날짜 : 2017-10-31, 모멘텀 인덱스 : 0.20589797157114487, flag : True, signal : buy S&P500\n",
      "날짜 : 2017-11-30, 모멘텀 인덱스 : 0.19045942814826988, flag : True, signal : buy S&P500\n",
      "날짜 : 2017-12-29, 모멘텀 인덱스 : 0.2024707435614035, flag : True, signal : buy S&P500\n",
      "날짜 : 2018-01-31, 모멘텀 인덱스 : 0.19565809929769507, flag : True, signal : buy S&P500\n",
      "날짜 : 2018-02-28, 모멘텀 인덱스 : 0.21529348723345687, flag : True, signal : buy S&P500\n",
      "날짜 : 2018-03-29, 모멘텀 인덱스 : 0.16964303728377983, flag : True, signal : buy S&P500\n",
      "날짜 : 2018-04-30, 모멘텀 인덱스 : 0.12640186271382325, flag : True, signal : buy S&P500\n",
      "날짜 : 2018-05-31, 모멘텀 인덱스 : 0.11646666693670782, flag : True, signal : buy S&P500\n",
      "날짜 : 2018-06-29, 모멘텀 인덱스 : 0.13636241654070047, flag : True, signal : buy S&P500\n",
      "날짜 : 2018-07-31, 모멘텀 인덱스 : 0.11987948806039617, flag : True, signal : buy S&P500\n",
      "날짜 : 2018-08-31, 모멘텀 인덱스 : 0.1579886880296888, flag : True, signal : buy S&P500\n",
      "날짜 : 2018-09-28, 모멘텀 인덱스 : 0.17134939539147087, flag : True, signal : buy S&P500\n",
      "날짜 : 2018-10-31, 모멘텀 인덱스 : 0.15118691019225827, flag : True, signal : buy S&P500\n",
      "날짜 : 2018-11-30, 모멘텀 인덱스 : 0.03985079646586831, flag : True, signal : buy S&P500\n",
      "날짜 : 2018-12-31, 모멘텀 인덱스 : 0.04644824332497244, flag : True, signal : buy S&P500\n",
      "날짜 : 2019-01-31, 모멘텀 인덱스 : -0.09660484479358222, flag : False, signal : \n",
      "날짜 : 2019-02-28, 모멘텀 인덱스 : 0.0125426970611755, flag : True, signal : buy S&P500\n",
      "날짜 : 2019-03-29, 모멘텀 인덱스 : 0.07482660543024999, flag : True, signal : buy S&P500\n",
      "날짜 : 2019-04-30, 모멘텀 인덱스 : 0.08865518715775145, flag : True, signal : buy S&P500\n",
      "날짜 : 2019-05-31, 모멘텀 인덱스 : 0.10623791964624485, flag : True, signal : buy S&P500\n",
      "날짜 : 2019-06-28, 모멘텀 인덱스 : 0.02976966819817206, flag : True, signal : buy S&P500\n",
      "날짜 : 2019-07-31, 모멘텀 인덱스 : 0.06208091723306963, flag : True, signal : buy S&P500\n",
      "날짜 : 2019-08-30, 모멘텀 인덱스 : 0.04478980227788942, flag : True, signal : buy S&P500\n",
      "날짜 : 2019-09-30, 모멘텀 인덱스 : 0.021224727452766823, flag : True, signal : buy S&P500\n",
      "날짜 : 2019-10-31, 모멘텀 인덱스 : 0.11838061474828554, flag : True, signal : buy S&P500\n",
      "날짜 : 2019-11-29, 모멘텀 인덱스 : 0.12228469775032758, flag : True, signal : buy S&P500\n",
      "날짜 : 2019-12-31, 모멘텀 인덱스 : 0.27518764576427523, flag : True, signal : buy S&P500\n",
      "날짜 : 2020-01-31, 모멘텀 인덱스 : 0.21496190659034675, flag : True, signal : buy S&P500\n",
      "날짜 : 2020-02-28, 모멘텀 인덱스 : 0.17633953806425917, flag : True, signal : buy S&P500\n",
      "날짜 : 2020-03-31, 모멘텀 인덱스 : 0.06395528196708722, flag : True, signal : buy S&P500\n",
      "날짜 : 2020-04-30, 모멘텀 인덱스 : -0.10544685309548296, flag : False, signal : \n",
      "날짜 : 2020-05-29, 모멘텀 인덱스 : 0.07681686065279458, flag : True, signal : buy S&P500\n",
      "날짜 : 2020-06-30, 모멘텀 인덱스 : 0.05472732679451786, flag : True, signal : buy S&P500\n",
      "날짜 : 2020-07-31, 모멘텀 인덱스 : 0.057444038851306445, flag : True, signal : buy S&P500\n",
      "날짜 : 2020-08-31, 모멘텀 인덱스 : 0.1387868260637808, flag : True, signal : buy S&P500\n",
      "날짜 : 2020-09-30, 모멘텀 인덱스 : 0.1950176457893651, flag : True, signal : buy S&P500\n",
      "날짜 : 2020-10-30, 모멘텀 인덱스 : 0.1253951719197044, flag : True, signal : buy S&P500\n",
      "날짜 : 2020-11-30, 모멘텀 인덱스 : 0.05900125523865696, flag : True, signal : buy S&P500\n",
      "날짜 : 2020-12-31, 모멘텀 인덱스 : 0.14104231762685893, flag : True, signal : buy S&P500\n",
      "날짜 : 2021-01-29, 모멘텀 인덱스 : 0.18379431946963676, flag : True, signal : buy S&P500\n",
      "날짜 : 2021-02-26, 모멘텀 인덱스 : 0.2724668501480907, flag : True, signal : buy S&P500\n",
      "날짜 : 2021-03-31, 모멘텀 인덱스 : 0.4944640426136877, flag : True, signal : buy S&P500\n",
      "날짜 : 2021-04-30, 모멘텀 인덱스 : 0.38627700218989625, flag : True, signal : buy S&P500\n",
      "날짜 : 2021-05-28, 모멘텀 인덱스 : 0.39324421608880367, flag : True, signal : buy S&P500\n",
      "날짜 : 2021-06-30, 모멘텀 인덱스 : 0.37795535111531886, flag : True, signal : buy S&P500\n",
      "날짜 : 2021-07-30, 모멘텀 인덱스 : 0.3305026199905592, flag : True, signal : buy S&P500\n",
      "날짜 : 2021-08-31, 모멘텀 인덱스 : 0.27405857592096106, flag : True, signal : buy S&P500\n",
      "날짜 : 2021-09-30, 모멘텀 인덱스 : 0.363010438100017, flag : True, signal : buy S&P500\n",
      "날짜 : 2021-10-29, 모멘텀 인덱스 : 0.33271604841165314, flag : True, signal : buy S&P500\n",
      "날짜 : 2021-11-30, 모멘텀 인덱스 : 0.2863044122228462, flag : True, signal : buy S&P500\n",
      "날짜 : 2021-12-31, 모멘텀 인덱스 : 0.23038494742256566, flag : True, signal : buy S&P500\n",
      "날짜 : 2022-01-31, 모멘텀 인덱스 : 0.30054067074110513, flag : True, signal : buy S&P500\n",
      "날짜 : 2022-02-28, 모멘텀 인덱스 : 0.1986204076400877, flag : True, signal : buy S&P500\n",
      "날짜 : 2022-03-31, 모멘텀 인덱스 : 0.11272373704979288, flag : True, signal : buy S&P500\n",
      "날짜 : 2022-04-29, 모멘텀 인덱스 : 0.09653334472511554, flag : True, signal : buy S&P500\n",
      "날짜 : 2022-05-31, 모멘텀 인덱스 : -0.006233523955703979, flag : False, signal : \n",
      "날짜 : 2022-06-30, 모멘텀 인덱스 : -0.02583822864913221, flag : False, signal : \n",
      "날짜 : 2022-07-29, 모멘텀 인덱스 : -0.12746871812610827, flag : False, signal : \n",
      "날짜 : 2022-08-31, 모멘텀 인덱스 : -0.07465762339728754, flag : False, signal : \n",
      "날짜 : 2022-09-30, 모멘텀 인덱스 : -0.06902474047916163, flag : False, signal : \n",
      "날짜 : 2022-10-31, 모멘텀 인덱스 : -0.21048477762994378, flag : False, signal : \n",
      "날짜 : 2022-11-30, 모멘텀 인덱스 : -0.139401839529399, flag : False, signal : \n",
      "날짜 : 2022-12-30, 모멘텀 인덱스 : -0.13171589630461722, flag : False, signal : \n",
      "날짜 : 2023-01-31, 모멘텀 인덱스 : -0.13619558762273087, flag : False, signal : \n",
      "날짜 : 2023-02-28, 모멘텀 인덱스 : -0.05394847912961942, flag : False, signal : \n",
      "날짜 : 2023-03-31, 모멘텀 인덱스 : -0.11114716110218825, flag : False, signal : \n",
      "날짜 : 2023-04-28, 모멘텀 인덱스 : 0.010500238869551426, flag : True, signal : buy S&P500\n",
      "날짜 : 2023-05-31, 모멘텀 인덱스 : 0.02433076815022739, flag : True, signal : buy S&P500\n",
      "날짜 : 2023-06-30, 모멘텀 인덱스 : 0.12154213488600774, flag : True, signal : buy S&P500\n",
      "                 Close   STD_YM       trade\n",
      "Date                                       \n",
      "2008-01-02  107.151588  2008-01  buy S&P500\n",
      "2008-01-03  107.099785  2008-01  buy S&P500\n",
      "2008-01-04  104.475174  2008-01  buy S&P500\n",
      "2008-01-07  104.386467  2008-01  buy S&P500\n",
      "2008-01-08  102.700806  2008-01  buy S&P500\n",
      "2008-01-09  103.780197  2008-01  buy S&P500\n",
      "2008-01-10  104.460388  2008-01  buy S&P500\n",
      "2008-01-11  103.617569  2008-01  buy S&P500\n",
      "2008-01-14  104.453072  2008-01  buy S&P500\n",
      "2008-01-15  102.153648  2008-01  buy S&P500\n",
      "2008-01-16  101.273903  2008-01  buy S&P500\n",
      "2008-01-17   98.649216  2008-01  buy S&P500\n",
      "2008-01-18   97.636345  2008-01  buy S&P500\n",
      "2008-01-22   96.645660  2008-01  buy S&P500\n",
      "2008-01-23   98.967140  2008-01  buy S&P500\n",
      "2008-01-24   99.802612  2008-01  buy S&P500\n",
      "2008-01-25   98.360901  2008-01  buy S&P500\n",
      "2008-01-28   99.987473  2008-01  buy S&P500\n",
      "2008-01-29  100.482788  2008-01  buy S&P500\n",
      "2008-01-30   99.743462  2008-01  buy S&P500\n",
      "2008-01-31  101.562225  2008-01  buy S&P500\n",
      "2008-02-01  103.196152  2008-02            \n"
     ]
    }
   ],
   "source": [
    "# 거래 실행, 매월 첫 영업일로 리밸런싱\n",
    "ticker = 'S&P500'\n",
    "for i in month_last_df.index:\n",
    "    signal = ''\n",
    "    momentum_index = month_last_df.loc[i,'BF_1M_Close'] / month_last_df.loc[i, 'BF_12M_Close'] - 1\n",
    "    flag = True if ((momentum_index > 0.0) and (momentum_index != np.inf) and (momentum_index != -np.inf)) else False\n",
    "    if flag:\n",
    "        signal = 'buy ' + ticker\n",
    "    print(f\"날짜 : {i.strftime('%Y-%m-%d')}, 모멘텀 인덱스 : {momentum_index}, flag : {flag}, signal : {signal}\")\n",
    "    book.loc[i.strftime('%Y-%m'):, 'trade'] = signal # 매월 첫 영업일로 리밸런싱\n",
    "print(book.loc[:'2008-02-01'])"
   ],
   "metadata": {
    "collapsed": false,
    "pycharm": {
     "name": "#%%\n"
    }
   }
  },
  {
   "cell_type": "code",
   "execution_count": 7,
   "outputs": [
    {
     "name": "stdout",
     "output_type": "stream",
     "text": [
      "진입일 : 2008-01-02, 진입가격 : 107.151588\n",
      "청산일 : 2008-02-01, 진입가격 : 107.151588, 청산가격 : 103.196152, return : 0.9631\n",
      "진입일 : 2009-10-01, 진입가격 : 79.339203\n",
      "청산일 : 2011-10-03, 진입가격 : 79.339203, 청산가격 : 88.092621, return : 1.1103\n",
      "진입일 : 2011-11-01, 진입가격 : 97.764946\n",
      "청산일 : 2012-01-03, 진입가격 : 97.764946, 청산가격 : 102.820381, return : 1.0517\n",
      "진입일 : 2012-02-01, 진입가격 : 106.828377\n",
      "청산일 : 2015-10-01, 진입가격 : 106.828377, 청산가격 : 167.135864, return : 1.5645\n",
      "진입일 : 2015-11-02, 진입가격 : 183.020432\n",
      "청산일 : 2016-02-01, 진입가격 : 183.020432, 청산가격 : 169.460739, return : 0.9259\n",
      "진입일 : 2016-04-01, 진입가격 : 182.007019\n",
      "청산일 : 2016-05-02, 진입가격 : 182.007019, 청산가격 : 182.930603, return : 1.0051\n",
      "진입일 : 2016-06-01, 진입가격 : 184.95372\n",
      "청산일 : 2019-01-02, 진입가격 : 184.95372, 청산가격 : 232.308746, return : 1.256\n",
      "진입일 : 2019-02-01, 진입가격 : 250.768692\n",
      "청산일 : 2020-04-01, 진입가격 : 250.768692, 청산가격 : 234.264252, return : 0.9342\n",
      "진입일 : 2020-05-01, 진입가격 : 269.13501\n",
      "청산일 : 2022-05-02, 진입가격 : 269.13501, 청산가격 : 406.066315, return : 1.5088\n",
      "진입일 : 2023-04-03, 진입가격 : 409.429138\n",
      "기간: 2008/01/02 ~ 2023/06/30\n",
      "Accumulated return : 3.1385189691944975\n",
      "                 Close   STD_YM       trade    return   acc_ret\n",
      "Date                                                           \n",
      "2008-01-02  107.151588  2008-01  buy S&P500  1.000000  1.000000\n",
      "2008-01-03  107.099785  2008-01  buy S&P500  0.999517  0.999517\n",
      "2008-01-04  104.475174  2008-01  buy S&P500  0.975494  0.975022\n",
      "2008-01-07  104.386467  2008-01  buy S&P500  0.999151  0.974194\n",
      "2008-01-08  102.700806  2008-01  buy S&P500  0.983852  0.958463\n",
      "2008-01-09  103.780197  2008-01  buy S&P500  1.010510  0.968536\n",
      "2008-01-10  104.460388  2008-01  buy S&P500  1.006554  0.974884\n",
      "2008-01-11  103.617569  2008-01  buy S&P500  0.991932  0.967019\n",
      "2008-01-14  104.453072  2008-01  buy S&P500  1.008063  0.974816\n",
      "2008-01-15  102.153648  2008-01  buy S&P500  0.977986  0.953356\n",
      "2008-01-16  101.273903  2008-01  buy S&P500  0.991388  0.945146\n",
      "2008-01-17   98.649216  2008-01  buy S&P500  0.974083  0.920651\n",
      "2008-01-18   97.636345  2008-01  buy S&P500  0.989733  0.911198\n",
      "2008-01-22   96.645660  2008-01  buy S&P500  0.989853  0.901953\n",
      "2008-01-23   98.967140  2008-01  buy S&P500  1.024021  0.923618\n",
      "2008-01-24   99.802612  2008-01  buy S&P500  1.008442  0.931415\n",
      "2008-01-25   98.360901  2008-01  buy S&P500  0.985554  0.917960\n",
      "2008-01-28   99.987473  2008-01  buy S&P500  1.016537  0.933140\n",
      "2008-01-29  100.482788  2008-01  buy S&P500  1.004954  0.937763\n",
      "2008-01-30   99.743462  2008-01  buy S&P500  0.992642  0.930863\n",
      "2008-01-31  101.562225  2008-01  buy S&P500  1.018234  0.947837\n",
      "2008-02-01  103.196152  2008-02              1.016088  0.963086\n"
     ]
    }
   ],
   "source": [
    "# 전략 수익률\n",
    "def returns(book, ticker):\n",
    "    book['return'] = 1\n",
    "    buy = 0.0\n",
    "    signal = 'buy ' + ticker\n",
    "    for i, x in enumerate(book.index):\n",
    "        if book.loc[x, 'trade'] == signal and (i==0 or book.shift(1).loc[x, 'trade'] == ''):\n",
    "            buy = book.loc[x, 'Close']\n",
    "            print(f\"진입일 : {x.strftime('%Y-%m-%d')}, 진입가격 : {buy}\")\n",
    "        elif buy != 0.0 and book.loc[x, 'trade'] == '' and book.shift(1).loc[x, 'trade'] == signal:\n",
    "            sell = book.loc[x, 'Close']\n",
    "            rtn = sell / buy\n",
    "            print(f\"청산일 : {x.strftime('%Y-%m-%d')}, 진입가격 : {buy}, 청산가격 : {sell}, return : {round(rtn, 4)}\")\n",
    "            buy = 0.0\n",
    "        if book.shift(1).loc[x, 'trade'] == signal and i!=0:\n",
    "            book.loc[x, 'return'] = book.loc[x, 'Close'] / book.shift(1).loc[x, 'Close']\n",
    "    book['acc_ret'] = book['return'].cumprod()\n",
    "    print(f\"기간: {book.index[0].strftime('%Y/%m/%d')} ~ {book.index[-1].strftime('%Y/%m/%d')}\")\n",
    "    print(f\"Accumulated return : {book.iloc[-1]['acc_ret']}\")\n",
    "    return round(book.iloc[-1]['acc_ret'], 4)\n",
    "\n",
    "returns(book, ticker)\n",
    "print(book.loc['2008':'2008-02-01'])"
   ],
   "metadata": {
    "collapsed": false,
    "pycharm": {
     "name": "#%%\n"
    }
   }
  },
  {
   "cell_type": "code",
   "execution_count": 8,
   "outputs": [
    {
     "name": "stdout",
     "output_type": "stream",
     "text": [
      "기간: 2008/01/02 ~ 2023/06/30\n",
      "최종 수익률: 3.1385189691944975\n",
      "cagr: 1.0766829447105075\n",
      "mdd: 33.7172669509494\n",
      "vol: 0.14935515323254253\n",
      "sharpe: 0.5698546134150987\n"
     ]
    }
   ],
   "source": [
    "def get_evaluation(daily_return):\n",
    "    \"\"\"\n",
    "    cagr, dd, mdd, vol, sharpe\n",
    "    투자 성과 지표\n",
    "    \"\"\"\n",
    "    # cumulativeReturn\n",
    "    cumulativeReturn = daily_return.cumprod()\n",
    "    # cagr\n",
    "    cagr = cumulativeReturn.iloc[-1] ** (252/len(cumulativeReturn))\n",
    "    # mdd\n",
    "    dd = (cumulativeReturn.cummax() - cumulativeReturn) / cumulativeReturn.cummax() * 100\n",
    "    mdd= dd.max()\n",
    "    vol = np.std(daily_return-1) * np.sqrt(252)\n",
    "    sharpe = np.mean(daily_return-1) * 252 / vol\n",
    "\n",
    "    print(f\"기간: {daily_return.index[0].strftime('%Y/%m/%d')} ~ {daily_return.index[-1].strftime('%Y/%m/%d')}\")\n",
    "    print(f\"최종 수익률: {cumulativeReturn.iloc[-1]}\\ncagr: {cagr}\\nmdd: {mdd}\\nvol: {vol}\\nsharpe: {sharpe}\")\n",
    "\n",
    "    return cagr, dd, mdd, vol, sharpe\n",
    "\n",
    "cagr, _, mdd, vol, sharp = get_evaluation(book.loc[:,'return'])"
   ],
   "metadata": {
    "collapsed": false,
    "pycharm": {
     "name": "#%%\n"
    }
   }
  },
  {
   "cell_type": "markdown",
   "source": [
    "### 4.3.2 듀얼 모멘텀 전략 구현을 위한 상대 모멘텀 전략"
   ],
   "metadata": {
    "collapsed": false,
    "pycharm": {
     "name": "#%% md\n"
    }
   }
  },
  {
   "cell_type": "code",
   "execution_count": 9,
   "outputs": [
    {
     "name": "stdout",
     "output_type": "stream",
     "text": [
      "SPY    0\n",
      "QQQ    0\n",
      "TLT    0\n",
      "GLD    0\n",
      "dtype: int64\n"
     ]
    }
   ],
   "source": [
    "# s&p500,nasdaq,개발도상국,미국장기채,골드\n",
    "stock_list = 'SPY, QQQ, TLT, GLD'\n",
    "base_df = fdr.DataReader(stock_list, start='2007')\n",
    "print(base_df.isna().sum(axis=0))"
   ],
   "metadata": {
    "collapsed": false,
    "pycharm": {
     "name": "#%%\n"
    }
   }
  },
  {
   "cell_type": "code",
   "execution_count": 10,
   "outputs": [
    {
     "name": "stdout",
     "output_type": "stream",
     "text": [
      "                   SPY        QQQ        TLT        GLD  CASH\n",
      "Date                                                         \n",
      "2007-01-03  141.369995  43.240002  89.059998  62.279999     1\n",
      "2007-01-04  141.669998  44.060001  89.599998  61.650002     1\n",
      "2007-01-05  140.539993  43.849998  89.209999  60.169998     1\n",
      "2007-01-08  141.190002  43.880001  89.370003  60.480000     1\n",
      "2007-01-09  141.070007  44.099998  89.370003  60.849998     1\n"
     ]
    }
   ],
   "source": [
    "stock_df = base_df.copy()\n",
    "stock_df['CASH'] = 1\n",
    "print(stock_df.head())"
   ],
   "metadata": {
    "collapsed": false,
    "pycharm": {
     "name": "#%%\n"
    }
   }
  },
  {
   "cell_type": "code",
   "execution_count": 11,
   "outputs": [
    {
     "name": "stdout",
     "output_type": "stream",
     "text": [
      "                   SPY        QQQ        TLT        GLD  CASH\n",
      "Date                                                         \n",
      "2007-01-31  143.750000  44.070000  87.550003  64.830002     1\n",
      "2007-02-28  140.929993  43.330002  90.150002  66.480003     1\n",
      "2007-03-30  142.000000  43.529999  88.279999  65.739998     1\n",
      "2007-04-30  148.289993  45.959999  88.750000  67.089996     1\n",
      "2007-05-31  153.320007  47.410000  86.379997  65.540001     1\n"
     ]
    }
   ],
   "source": [
    "# 월말 데이터 추출\n",
    "stock_df['STD_YM'] = stock_df.apply(lambda x: x.name.strftime('%Y-%m'), axis=1)\n",
    "ym_keys = list(stock_df['STD_YM'].unique())\n",
    "month_last_df = stock_df.drop_duplicates(['STD_YM'], keep=\"last\").loc[:, ~stock_df.columns.isin(['STD_YM'])].copy()\n",
    "print(month_last_df.head())"
   ],
   "metadata": {
    "collapsed": false,
    "pycharm": {
     "name": "#%%\n"
    }
   }
  },
  {
   "cell_type": "code",
   "execution_count": 12,
   "outputs": [
    {
     "name": "stdout",
     "output_type": "stream",
     "text": [
      "        Date   STD_YM CODE       Close\n",
      "0 2007-01-03  2007-01  SPY  141.369995\n",
      "1 2007-01-04  2007-01  SPY  141.669998\n",
      "2 2007-01-05  2007-01  SPY  140.539993\n",
      "3 2007-01-08  2007-01  SPY  141.190002\n",
      "4 2007-01-09  2007-01  SPY  141.070007\n",
      "            Date   STD_YM  CODE  Close\n",
      "20755 2023-06-26  2023-06  CASH    1.0\n",
      "20756 2023-06-27  2023-06  CASH    1.0\n",
      "20757 2023-06-28  2023-06  CASH    1.0\n",
      "20758 2023-06-29  2023-06  CASH    1.0\n",
      "20759 2023-06-30  2023-06  CASH    1.0\n"
     ]
    }
   ],
   "source": [
    "stock_df = stock_df.reset_index()\n",
    "melt_stock_df = stock_df.melt(id_vars=['Date', 'STD_YM'], var_name='CODE', value_name='Close')\n",
    "print(melt_stock_df.head(5))\n",
    "print(melt_stock_df.tail(5))"
   ],
   "metadata": {
    "collapsed": false,
    "pycharm": {
     "name": "#%%\n"
    }
   }
  },
  {
   "cell_type": "code",
   "execution_count": 13,
   "outputs": [
    {
     "name": "stdout",
     "output_type": "stream",
     "text": [
      "        Date CODE       Close\n",
      "0 2007-01-31  SPY  143.750000\n",
      "1 2007-02-28  SPY  140.929993\n",
      "2 2007-03-30  SPY  142.000000\n",
      "3 2007-04-30  SPY  148.289993\n",
      "4 2007-05-31  SPY  153.320007\n",
      "          Date  CODE  Close\n",
      "985 2023-02-28  CASH    1.0\n",
      "986 2023-03-31  CASH    1.0\n",
      "987 2023-04-28  CASH    1.0\n",
      "988 2023-05-31  CASH    1.0\n",
      "989 2023-06-30  CASH    1.0\n"
     ]
    }
   ],
   "source": [
    "month_last_df = month_last_df.reset_index()\n",
    "melt_month_df = month_last_df.melt(id_vars=['Date'], var_name='CODE', value_name='Close')\n",
    "print(melt_month_df.head(5))\n",
    "print(melt_month_df.tail(5))"
   ],
   "metadata": {
    "collapsed": false,
    "pycharm": {
     "name": "#%%\n"
    }
   }
  },
  {
   "cell_type": "code",
   "execution_count": 14,
   "outputs": [],
   "source": [
    "# print(melt_month_df.loc[melt_month_df['CODE']=='SPY'])\n",
    "# for ticker in ['SPY', 'QQQ', 'TLT', 'GLD', 'CASH']:\n",
    "#     ticker_df = melt_month_df.loc[melt_month_df['CODE']==ticker]\n",
    "#     ret = ticker_df['Close'] / ticker_df['Close'].shift()\n",
    "#     print(ticker_df.index[0], ticker_df.index[-1])\n",
    "#     melt_month_df[ticker_df.index[0]:ticker_df.index[-1], ['1M_RET']] = ret\n",
    "#     # print('-----------------')\n",
    "# print(melt_month_df.info())\n",
    "# print(melt_month_df.isin([np.NAN]).sum(axis=0))\n",
    "# print(melt_month_df.head(20))"
   ],
   "metadata": {
    "collapsed": false,
    "pycharm": {
     "name": "#%%\n"
    }
   }
  },
  {
   "cell_type": "markdown",
   "source": [
    "## 4.4 가치 투자 퀀트 전략"
   ],
   "metadata": {
    "collapsed": false
   }
  },
  {
   "cell_type": "markdown",
   "source": [
    "## 4.5 마치며"
   ],
   "metadata": {
    "collapsed": false
   }
  },
  {
   "cell_type": "code",
   "execution_count": 14,
   "outputs": [],
   "source": [],
   "metadata": {
    "collapsed": false,
    "pycharm": {
     "name": "#%%\n"
    }
   }
  }
 ],
 "metadata": {
  "kernelspec": {
   "display_name": "Python 3",
   "language": "python",
   "name": "python3"
  },
  "language_info": {
   "codemirror_mode": {
    "name": "ipython",
    "version": 2
   },
   "file_extension": ".py",
   "mimetype": "text/x-python",
   "name": "python",
   "nbconvert_exporter": "python",
   "pygments_lexer": "ipython2",
   "version": "2.7.6"
  }
 },
 "nbformat": 4,
 "nbformat_minor": 0
}