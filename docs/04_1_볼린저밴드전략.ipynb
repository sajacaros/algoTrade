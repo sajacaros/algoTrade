{
 "cells": [
  {
   "cell_type": "markdown",
   "metadata": {
    "collapsed": true,
    "pycharm": {
     "name": "#%% md\n"
    }
   },
   "source": [
    "# CHAPTER 4 전통 퀀트 투자 전략\n",
    "* 평균 회귀 전략\n",
    "* 듀얼 모멘텀 전략\n",
    "* 가치 투자 전략\n",
    "## 4.1 전통 퀀트 방법론 소개\n",
    "* 정략적(quantitative) 방법론을 기반으로 투자 의사를 결정하는 것"
   ]
  },
  {
   "cell_type": "markdown",
   "source": [
    "## 4.2 평균 회귀 전략\n",
    "### 4.2.1 볼린저 밴드\n",
    "* 3개의 선으로 구성\n",
    "    * 중심선 : 이동 평균\n",
    "    * 상/하단선 : 표준편차 밴드\n",
    "* ![BB전략](images/BB.PNG)"
   ],
   "metadata": {
    "collapsed": false
   }
  },
  {
   "cell_type": "markdown",
   "source": [
    "### 4.2.2 데이터프레임"
   ],
   "metadata": {
    "collapsed": false
   }
  },
  {
   "cell_type": "code",
   "execution_count": 2,
   "outputs": [],
   "source": [
    "import pandas as pd\n",
    "import numpy as np\n",
    "import FinanceDataReader as fdr\n",
    "import matplotlib.pyplot as plt"
   ],
   "metadata": {
    "collapsed": false,
    "pycharm": {
     "name": "#%%\n"
    }
   }
  },
  {
   "cell_type": "code",
   "execution_count": 3,
   "outputs": [
    {
     "data": {
      "text/plain": "Empty DataFrame\nColumns: [Open, High, Low, Close, Adj Close, Volume]\nIndex: []",
      "text/html": "<div>\n<style scoped>\n    .dataframe tbody tr th:only-of-type {\n        vertical-align: middle;\n    }\n\n    .dataframe tbody tr th {\n        vertical-align: top;\n    }\n\n    .dataframe thead th {\n        text-align: right;\n    }\n</style>\n<table border=\"1\" class=\"dataframe\">\n  <thead>\n    <tr style=\"text-align: right;\">\n      <th></th>\n      <th>Open</th>\n      <th>High</th>\n      <th>Low</th>\n      <th>Close</th>\n      <th>Adj Close</th>\n      <th>Volume</th>\n    </tr>\n    <tr>\n      <th>Date</th>\n      <th></th>\n      <th></th>\n      <th></th>\n      <th></th>\n      <th></th>\n      <th></th>\n    </tr>\n  </thead>\n  <tbody>\n  </tbody>\n</table>\n</div>"
     },
     "execution_count": 3,
     "metadata": {},
     "output_type": "execute_result"
    }
   ],
   "source": [
    "# df = fdr.DataReader('US500')\n",
    "df = fdr.DataReader('spy')\n",
    "# df = fdr.DataReader('^KS11')\n",
    "df[df['Adj Close'].isna()]"
   ],
   "metadata": {
    "collapsed": false,
    "pycharm": {
     "name": "#%%\n"
    }
   }
  },
  {
   "cell_type": "code",
   "execution_count": 4,
   "outputs": [
    {
     "data": {
      "text/plain": "              Open         High          Low        Close    Adj Close  \\\ncount  7660.000000  7660.000000  7660.000000  7660.000000  7660.000000   \nmean    165.932709   166.938927   164.825017   165.941005   138.154481   \nstd     101.463488   102.030970   100.857772   101.490969   107.269810   \nmin      43.343750    43.531250    42.812500    43.406250    24.726751   \n25%     104.410625   105.394688   103.547503   104.510937    70.664284   \n50%     131.230003   132.112503   130.380005   131.315002    93.489307   \n75%     207.992504   208.972500   207.014996   208.032498   180.530491   \nmax     479.220001   479.980011   476.059998   477.709991   466.563293   \n\n             Volume  \ncount  7.660000e+03  \nmean   8.457748e+07  \nstd    9.305396e+07  \nmin    5.200000e+03  \n25%    9.620125e+06  \n50%    6.238815e+07  \n75%    1.173612e+08  \nmax    8.710263e+08  ",
      "text/html": "<div>\n<style scoped>\n    .dataframe tbody tr th:only-of-type {\n        vertical-align: middle;\n    }\n\n    .dataframe tbody tr th {\n        vertical-align: top;\n    }\n\n    .dataframe thead th {\n        text-align: right;\n    }\n</style>\n<table border=\"1\" class=\"dataframe\">\n  <thead>\n    <tr style=\"text-align: right;\">\n      <th></th>\n      <th>Open</th>\n      <th>High</th>\n      <th>Low</th>\n      <th>Close</th>\n      <th>Adj Close</th>\n      <th>Volume</th>\n    </tr>\n  </thead>\n  <tbody>\n    <tr>\n      <th>count</th>\n      <td>7660.000000</td>\n      <td>7660.000000</td>\n      <td>7660.000000</td>\n      <td>7660.000000</td>\n      <td>7660.000000</td>\n      <td>7.660000e+03</td>\n    </tr>\n    <tr>\n      <th>mean</th>\n      <td>165.932709</td>\n      <td>166.938927</td>\n      <td>164.825017</td>\n      <td>165.941005</td>\n      <td>138.154481</td>\n      <td>8.457748e+07</td>\n    </tr>\n    <tr>\n      <th>std</th>\n      <td>101.463488</td>\n      <td>102.030970</td>\n      <td>100.857772</td>\n      <td>101.490969</td>\n      <td>107.269810</td>\n      <td>9.305396e+07</td>\n    </tr>\n    <tr>\n      <th>min</th>\n      <td>43.343750</td>\n      <td>43.531250</td>\n      <td>42.812500</td>\n      <td>43.406250</td>\n      <td>24.726751</td>\n      <td>5.200000e+03</td>\n    </tr>\n    <tr>\n      <th>25%</th>\n      <td>104.410625</td>\n      <td>105.394688</td>\n      <td>103.547503</td>\n      <td>104.510937</td>\n      <td>70.664284</td>\n      <td>9.620125e+06</td>\n    </tr>\n    <tr>\n      <th>50%</th>\n      <td>131.230003</td>\n      <td>132.112503</td>\n      <td>130.380005</td>\n      <td>131.315002</td>\n      <td>93.489307</td>\n      <td>6.238815e+07</td>\n    </tr>\n    <tr>\n      <th>75%</th>\n      <td>207.992504</td>\n      <td>208.972500</td>\n      <td>207.014996</td>\n      <td>208.032498</td>\n      <td>180.530491</td>\n      <td>1.173612e+08</td>\n    </tr>\n    <tr>\n      <th>max</th>\n      <td>479.220001</td>\n      <td>479.980011</td>\n      <td>476.059998</td>\n      <td>477.709991</td>\n      <td>466.563293</td>\n      <td>8.710263e+08</td>\n    </tr>\n  </tbody>\n</table>\n</div>"
     },
     "execution_count": 4,
     "metadata": {},
     "output_type": "execute_result"
    }
   ],
   "source": [
    "df.dropna(inplace=True)\n",
    "df.describe()"
   ],
   "metadata": {
    "collapsed": false,
    "pycharm": {
     "name": "#%%\n"
    }
   }
  },
  {
   "cell_type": "markdown",
   "source": [
    "### 4.2.3 데이터 가공"
   ],
   "metadata": {
    "collapsed": false
   }
  },
  {
   "cell_type": "code",
   "execution_count": 5,
   "outputs": [
    {
     "data": {
      "text/plain": "                Close\nDate                 \n1993-01-29  25.029377\n1993-02-01  25.207380\n1993-02-02  25.260780\n1993-02-03  25.527830\n1993-02-04  25.634634",
      "text/html": "<div>\n<style scoped>\n    .dataframe tbody tr th:only-of-type {\n        vertical-align: middle;\n    }\n\n    .dataframe tbody tr th {\n        vertical-align: top;\n    }\n\n    .dataframe thead th {\n        text-align: right;\n    }\n</style>\n<table border=\"1\" class=\"dataframe\">\n  <thead>\n    <tr style=\"text-align: right;\">\n      <th></th>\n      <th>Close</th>\n    </tr>\n    <tr>\n      <th>Date</th>\n      <th></th>\n    </tr>\n  </thead>\n  <tbody>\n    <tr>\n      <th>1993-01-29</th>\n      <td>25.029377</td>\n    </tr>\n    <tr>\n      <th>1993-02-01</th>\n      <td>25.207380</td>\n    </tr>\n    <tr>\n      <th>1993-02-02</th>\n      <td>25.260780</td>\n    </tr>\n    <tr>\n      <th>1993-02-03</th>\n      <td>25.527830</td>\n    </tr>\n    <tr>\n      <th>1993-02-04</th>\n      <td>25.634634</td>\n    </tr>\n  </tbody>\n</table>\n</div>"
     },
     "execution_count": 5,
     "metadata": {},
     "output_type": "execute_result"
    }
   ],
   "source": [
    "price_df = df.loc[:, ['Adj Close']].copy()\n",
    "price_df.columns = ['Close']\n",
    "price_df.head()"
   ],
   "metadata": {
    "collapsed": false,
    "pycharm": {
     "name": "#%%\n"
    }
   }
  },
  {
   "cell_type": "markdown",
   "source": [
    "### 4.2.4 볼린저 밴드 만들기"
   ],
   "metadata": {
    "collapsed": false
   }
  },
  {
   "cell_type": "code",
   "execution_count": 6,
   "outputs": [
    {
     "data": {
      "text/plain": "                Close     center\nDate                            \n1993-02-25  25.260780        NaN\n1993-02-26  25.296391  25.220738\n1993-03-01  25.225193  25.230529\n1993-03-02  25.599022  25.250111\n1993-03-03  25.705837  25.272364\n1993-03-04  25.563414  25.274143\n1993-03-05  25.492222  25.267022",
      "text/html": "<div>\n<style scoped>\n    .dataframe tbody tr th:only-of-type {\n        vertical-align: middle;\n    }\n\n    .dataframe tbody tr th {\n        vertical-align: top;\n    }\n\n    .dataframe thead th {\n        text-align: right;\n    }\n</style>\n<table border=\"1\" class=\"dataframe\">\n  <thead>\n    <tr style=\"text-align: right;\">\n      <th></th>\n      <th>Close</th>\n      <th>center</th>\n    </tr>\n    <tr>\n      <th>Date</th>\n      <th></th>\n      <th></th>\n    </tr>\n  </thead>\n  <tbody>\n    <tr>\n      <th>1993-02-25</th>\n      <td>25.260780</td>\n      <td>NaN</td>\n    </tr>\n    <tr>\n      <th>1993-02-26</th>\n      <td>25.296391</td>\n      <td>25.220738</td>\n    </tr>\n    <tr>\n      <th>1993-03-01</th>\n      <td>25.225193</td>\n      <td>25.230529</td>\n    </tr>\n    <tr>\n      <th>1993-03-02</th>\n      <td>25.599022</td>\n      <td>25.250111</td>\n    </tr>\n    <tr>\n      <th>1993-03-03</th>\n      <td>25.705837</td>\n      <td>25.272364</td>\n    </tr>\n    <tr>\n      <th>1993-03-04</th>\n      <td>25.563414</td>\n      <td>25.274143</td>\n    </tr>\n    <tr>\n      <th>1993-03-05</th>\n      <td>25.492222</td>\n      <td>25.267022</td>\n    </tr>\n  </tbody>\n</table>\n</div>"
     },
     "execution_count": 6,
     "metadata": {},
     "output_type": "execute_result"
    }
   ],
   "source": [
    "price_df['center'] = price_df['Close'].rolling(window=20).mean()\n",
    "price_df.iloc[18:25]"
   ],
   "metadata": {
    "collapsed": false,
    "pycharm": {
     "name": "#%%\n"
    }
   }
  },
  {
   "cell_type": "code",
   "execution_count": 7,
   "outputs": [
    {
     "data": {
      "text/plain": "                Close     center         ub         lb\nDate                                                  \n1993-02-25  25.260780        NaN        NaN        NaN\n1993-02-26  25.296391  25.220738  25.864699  24.576776\n1993-03-01  25.225193  25.230529  25.868163  24.592894\n1993-03-02  25.599022  25.250111  25.908470  24.591751\n1993-03-03  25.705837  25.272364  25.961603  24.583124\n1993-03-04  25.563414  25.274143  25.966337  24.581949\n1993-03-05  25.492222  25.267022  25.946413  24.587631",
      "text/html": "<div>\n<style scoped>\n    .dataframe tbody tr th:only-of-type {\n        vertical-align: middle;\n    }\n\n    .dataframe tbody tr th {\n        vertical-align: top;\n    }\n\n    .dataframe thead th {\n        text-align: right;\n    }\n</style>\n<table border=\"1\" class=\"dataframe\">\n  <thead>\n    <tr style=\"text-align: right;\">\n      <th></th>\n      <th>Close</th>\n      <th>center</th>\n      <th>ub</th>\n      <th>lb</th>\n    </tr>\n    <tr>\n      <th>Date</th>\n      <th></th>\n      <th></th>\n      <th></th>\n      <th></th>\n    </tr>\n  </thead>\n  <tbody>\n    <tr>\n      <th>1993-02-25</th>\n      <td>25.260780</td>\n      <td>NaN</td>\n      <td>NaN</td>\n      <td>NaN</td>\n    </tr>\n    <tr>\n      <th>1993-02-26</th>\n      <td>25.296391</td>\n      <td>25.220738</td>\n      <td>25.864699</td>\n      <td>24.576776</td>\n    </tr>\n    <tr>\n      <th>1993-03-01</th>\n      <td>25.225193</td>\n      <td>25.230529</td>\n      <td>25.868163</td>\n      <td>24.592894</td>\n    </tr>\n    <tr>\n      <th>1993-03-02</th>\n      <td>25.599022</td>\n      <td>25.250111</td>\n      <td>25.908470</td>\n      <td>24.591751</td>\n    </tr>\n    <tr>\n      <th>1993-03-03</th>\n      <td>25.705837</td>\n      <td>25.272364</td>\n      <td>25.961603</td>\n      <td>24.583124</td>\n    </tr>\n    <tr>\n      <th>1993-03-04</th>\n      <td>25.563414</td>\n      <td>25.274143</td>\n      <td>25.966337</td>\n      <td>24.581949</td>\n    </tr>\n    <tr>\n      <th>1993-03-05</th>\n      <td>25.492222</td>\n      <td>25.267022</td>\n      <td>25.946413</td>\n      <td>24.587631</td>\n    </tr>\n  </tbody>\n</table>\n</div>"
     },
     "execution_count": 7,
     "metadata": {},
     "output_type": "execute_result"
    }
   ],
   "source": [
    "price_df['ub'] = price_df['center'] + 2 * price_df['Close'].rolling(window=20).std()\n",
    "price_df['lb'] = price_df['center'] - 2 * price_df['Close'].rolling(window=20).std()\n",
    "price_df.iloc[18:25]"
   ],
   "metadata": {
    "collapsed": false,
    "pycharm": {
     "name": "#%%\n"
    }
   }
  },
  {
   "cell_type": "code",
   "execution_count": 8,
   "outputs": [],
   "source": [
    "# bollinder_band(price, window, sigma)\n",
    "def bollinger_band(price, window=20, sigma=1):\n",
    "    bb = price.copy()\n",
    "    bb['center'] = bb['Close'].rolling(window=window).mean()\n",
    "    bb['ub'] = bb['center'] + sigma * bb['Close'].rolling(window=window).std()\n",
    "    bb['lb'] = bb['center'] - sigma * bb['Close'].rolling(window=window).std()\n",
    "    return bb.dropna()\n",
    "\n",
    "window = 20\n",
    "sigma = 2\n",
    "bollinger = bollinger_band(price_df, window, sigma)"
   ],
   "metadata": {
    "collapsed": false,
    "pycharm": {
     "name": "#%%\n"
    }
   }
  },
  {
   "cell_type": "code",
   "execution_count": 9,
   "outputs": [
    {
     "data": {
      "text/plain": "                 Close      center          ub          lb\nDate                                                      \n2008-01-02  107.151566  109.018036  111.952891  106.083180\n2008-01-03  107.099800  108.991148  111.988445  105.993851\n2008-01-04  104.475204  108.742941  112.345097  105.140786\n2008-01-07  104.386475  108.411974  112.340307  104.483640\n2008-01-08  102.700813  107.997827  112.490489  103.505165",
      "text/html": "<div>\n<style scoped>\n    .dataframe tbody tr th:only-of-type {\n        vertical-align: middle;\n    }\n\n    .dataframe tbody tr th {\n        vertical-align: top;\n    }\n\n    .dataframe thead th {\n        text-align: right;\n    }\n</style>\n<table border=\"1\" class=\"dataframe\">\n  <thead>\n    <tr style=\"text-align: right;\">\n      <th></th>\n      <th>Close</th>\n      <th>center</th>\n      <th>ub</th>\n      <th>lb</th>\n    </tr>\n    <tr>\n      <th>Date</th>\n      <th></th>\n      <th></th>\n      <th></th>\n      <th></th>\n    </tr>\n  </thead>\n  <tbody>\n    <tr>\n      <th>2008-01-02</th>\n      <td>107.151566</td>\n      <td>109.018036</td>\n      <td>111.952891</td>\n      <td>106.083180</td>\n    </tr>\n    <tr>\n      <th>2008-01-03</th>\n      <td>107.099800</td>\n      <td>108.991148</td>\n      <td>111.988445</td>\n      <td>105.993851</td>\n    </tr>\n    <tr>\n      <th>2008-01-04</th>\n      <td>104.475204</td>\n      <td>108.742941</td>\n      <td>112.345097</td>\n      <td>105.140786</td>\n    </tr>\n    <tr>\n      <th>2008-01-07</th>\n      <td>104.386475</td>\n      <td>108.411974</td>\n      <td>112.340307</td>\n      <td>104.483640</td>\n    </tr>\n    <tr>\n      <th>2008-01-08</th>\n      <td>102.700813</td>\n      <td>107.997827</td>\n      <td>112.490489</td>\n      <td>103.505165</td>\n    </tr>\n  </tbody>\n</table>\n</div>"
     },
     "execution_count": 9,
     "metadata": {},
     "output_type": "execute_result"
    }
   ],
   "source": [
    "# 기간 추출\n",
    "base_date = '2008-01-01'\n",
    "sample = bollinger.loc[base_date:]\n",
    "sample.head()"
   ],
   "metadata": {
    "collapsed": false,
    "pycharm": {
     "name": "#%%\n"
    }
   }
  },
  {
   "cell_type": "code",
   "execution_count": 10,
   "outputs": [
    {
     "data": {
      "text/plain": "                 Close trade\nDate                        \n2008-01-02  107.151566      \n2008-01-03  107.099800      \n2008-01-04  104.475204      \n2008-01-07  104.386475      \n2008-01-08  102.700813      ",
      "text/html": "<div>\n<style scoped>\n    .dataframe tbody tr th:only-of-type {\n        vertical-align: middle;\n    }\n\n    .dataframe tbody tr th {\n        vertical-align: top;\n    }\n\n    .dataframe thead th {\n        text-align: right;\n    }\n</style>\n<table border=\"1\" class=\"dataframe\">\n  <thead>\n    <tr style=\"text-align: right;\">\n      <th></th>\n      <th>Close</th>\n      <th>trade</th>\n    </tr>\n    <tr>\n      <th>Date</th>\n      <th></th>\n      <th></th>\n    </tr>\n  </thead>\n  <tbody>\n    <tr>\n      <th>2008-01-02</th>\n      <td>107.151566</td>\n      <td></td>\n    </tr>\n    <tr>\n      <th>2008-01-03</th>\n      <td>107.099800</td>\n      <td></td>\n    </tr>\n    <tr>\n      <th>2008-01-04</th>\n      <td>104.475204</td>\n      <td></td>\n    </tr>\n    <tr>\n      <th>2008-01-07</th>\n      <td>104.386475</td>\n      <td></td>\n    </tr>\n    <tr>\n      <th>2008-01-08</th>\n      <td>102.700813</td>\n      <td></td>\n    </tr>\n  </tbody>\n</table>\n</div>"
     },
     "execution_count": 10,
     "metadata": {},
     "output_type": "execute_result"
    }
   ],
   "source": [
    "# 거래내역을 담을 dataframe 생성\n",
    "book = sample[['Close']].copy()\n",
    "book['trade'] = ''\n",
    "book.head()"
   ],
   "metadata": {
    "collapsed": false,
    "pycharm": {
     "name": "#%%\n"
    }
   }
  },
  {
   "cell_type": "code",
   "execution_count": 11,
   "outputs": [
    {
     "data": {
      "text/plain": "                 Close trade\nDate                        \n2008-01-02  107.151566      \n2008-01-03  107.099800      \n2008-01-04  104.475204      \n2008-01-07  104.386475      \n2008-01-08  102.700813      ",
      "text/html": "<div>\n<style scoped>\n    .dataframe tbody tr th:only-of-type {\n        vertical-align: middle;\n    }\n\n    .dataframe tbody tr th {\n        vertical-align: top;\n    }\n\n    .dataframe thead th {\n        text-align: right;\n    }\n</style>\n<table border=\"1\" class=\"dataframe\">\n  <thead>\n    <tr style=\"text-align: right;\">\n      <th></th>\n      <th>Close</th>\n      <th>trade</th>\n    </tr>\n    <tr>\n      <th>Date</th>\n      <th></th>\n      <th></th>\n    </tr>\n  </thead>\n  <tbody>\n    <tr>\n      <th>2008-01-02</th>\n      <td>107.151566</td>\n      <td></td>\n    </tr>\n    <tr>\n      <th>2008-01-03</th>\n      <td>107.099800</td>\n      <td></td>\n    </tr>\n    <tr>\n      <th>2008-01-04</th>\n      <td>104.475204</td>\n      <td></td>\n    </tr>\n    <tr>\n      <th>2008-01-07</th>\n      <td>104.386475</td>\n      <td></td>\n    </tr>\n    <tr>\n      <th>2008-01-08</th>\n      <td>102.700813</td>\n      <td></td>\n    </tr>\n  </tbody>\n</table>\n</div>"
     },
     "execution_count": 11,
     "metadata": {},
     "output_type": "execute_result"
    }
   ],
   "source": [
    "# create_trade_book(price)\n",
    "def create_trade_book(price):\n",
    "    book = price[['Close']].copy()\n",
    "    book['trade'] = ''\n",
    "    return book\n",
    "\n",
    "book = create_trade_book(sample)\n",
    "book.head()"
   ],
   "metadata": {
    "collapsed": false,
    "pycharm": {
     "name": "#%%\n"
    }
   }
  },
  {
   "cell_type": "markdown",
   "source": [
    "### 4.2.5 거래 전략"
   ],
   "metadata": {
    "collapsed": false
   }
  },
  {
   "cell_type": "code",
   "execution_count": 12,
   "outputs": [
    {
     "name": "stdout",
     "output_type": "stream",
     "text": [
      "                 Close trade\n",
      "Date                        \n",
      "2008-01-02  107.151566      \n",
      "2008-01-03  107.099800      \n",
      "2008-01-04  104.475204   buy\n",
      "2008-01-07  104.386475   buy\n",
      "2008-01-08  102.700813   buy\n"
     ]
    }
   ],
   "source": [
    "def trading(sample, book):\n",
    "    for i in sample.index:\n",
    "        if sample.loc[i, 'Close'] > sample.loc[i, 'ub']: # 종가가 상단보다 클시\n",
    "            book.loc[i, 'trade'] = '' # 보유x\n",
    "        elif sample.loc[i, 'Close'] < sample.loc[i, 'lb']: # 종가가 하단보다 작을시\n",
    "            book.loc[i, 'trade'] = 'buy' # 보유o\n",
    "        elif sample.loc[i, 'lb'] <= sample.loc[i, 'Close'] <= sample.loc[i, 'ub']: # bb 상하단 사이일시\n",
    "            if book.shift(1).loc[i, 'trade'] == 'buy': # 보유중이면\n",
    "                book.loc[i, 'trade'] = 'buy' # 여전히 보유\n",
    "            else: # 보유중이 아니었으면\n",
    "                book.loc[i, 'trade'] = '' # 보류\n",
    "    return book\n",
    "\n",
    "book = trading(sample, book)\n",
    "print(book.head())"
   ],
   "metadata": {
    "collapsed": false,
    "pycharm": {
     "name": "#%%\n"
    }
   }
  },
  {
   "cell_type": "markdown",
   "source": [
    "### 4.2.6 전략 수익률"
   ],
   "metadata": {
    "collapsed": false
   }
  },
  {
   "cell_type": "code",
   "execution_count": 13,
   "outputs": [
    {
     "name": "stdout",
     "output_type": "stream",
     "text": [
      "진입일 : 2008-01-04, 진입가격 : 104.475204\n",
      "청산일 : 2008-04-01, 진입가격 : 104.475204, 청산가격 : 101.500351, return : 0.9715\n",
      "진입일 : 2008-06-06, 진입가격 : 101.262581\n",
      "청산일 : 2009-01-02, 진입가격 : 101.262581, 청산가격 : 70.382668, return : 0.6951\n",
      "진입일 : 2009-01-20, 진입가격 : 61.001858\n",
      "청산일 : 2009-03-23, 진입가격 : 61.001858, 청산가격 : 62.696667, return : 1.0278\n",
      "진입일 : 2010-01-22, 진입가격 : 84.600212\n",
      "청산일 : 2010-04-14, 진입가격 : 84.600212, 청산가격 : 94.267174, return : 1.1143\n",
      "진입일 : 2010-05-04, 진입가격 : 91.412468\n",
      "청산일 : 2010-10-13, 진입가격 : 91.412468, 청산가격 : 92.653412, return : 1.0136\n",
      "진입일 : 2011-03-10, 진입가격 : 102.634842\n",
      "청산일 : 2011-04-26, 진입가격 : 102.634842, 청산가격 : 106.928169, return : 1.0418\n",
      "진입일 : 2011-05-23, 진입가격 : 104.762474\n",
      "청산일 : 2011-06-30, 진입가격 : 104.762474, 청산가격 : 105.210114, return : 1.0043\n",
      "진입일 : 2011-08-02, 진입가격 : 100.04409\n",
      "청산일 : 2012-02-03, 진입가격 : 100.04409, 청산가격 : 108.497688, return : 1.0845\n",
      "진입일 : 2012-04-10, 진입가격 : 110.074692\n",
      "청산일 : 2012-07-03, 진입가격 : 110.074692, 청산가격 : 111.874428, return : 1.0164\n",
      "진입일 : 2012-10-23, 진입가격 : 115.753899\n",
      "청산일 : 2012-12-18, 진입가격 : 115.753899, 청산가격 : 118.987, return : 1.0279\n",
      "진입일 : 2013-06-05, 진입가격 : 133.528793\n",
      "청산일 : 2013-07-11, 진입가격 : 133.528793, 청산가격 : 139.371002, return : 1.0438\n",
      "진입일 : 2013-08-15, 진입가격 : 138.488708\n",
      "청산일 : 2013-09-11, 진입가격 : 138.488708, 청산가격 : 141.002487, return : 1.0182\n",
      "진입일 : 2013-10-08, 진입가격 : 138.410965\n",
      "청산일 : 2013-10-17, 진입가격 : 138.410965, 청산가격 : 144.884933, return : 1.0468\n",
      "진입일 : 2014-01-24, 진입가격 : 150.439774\n",
      "청산일 : 2014-04-02, 진입가격 : 150.439774, 청산가격 : 159.541992, return : 1.0605\n",
      "진입일 : 2014-04-11, 진입가격 : 153.316742\n",
      "청산일 : 2014-05-27, 진입가격 : 153.316742, 청산가격 : 161.771942, return : 1.0551\n",
      "진입일 : 2014-07-31, 진입가격 : 163.879608\n",
      "청산일 : 2014-09-18, 진입가격 : 163.879608, 청산가격 : 171.288925, return : 1.0452\n",
      "진입일 : 2014-09-25, 진입가격 : 167.416885\n",
      "청산일 : 2016-04-13, 진입가격 : 167.416885, 청산가격 : 182.957001, return : 1.0928\n",
      "진입일 : 2016-06-24, 진입가격 : 179.699814\n",
      "청산일 : 2016-08-11, 진입가격 : 179.699814, 청산가격 : 193.32486, return : 1.0758\n",
      "진입일 : 2016-09-09, 진입가격 : 188.576874\n",
      "청산일 : 2016-12-07, 진입가격 : 188.576874, 청산가격 : 199.588837, return : 1.0584\n",
      "진입일 : 2017-03-21, 진입가격 : 209.835327\n",
      "청산일 : 2017-04-24, 진입가격 : 209.835327, 청산가격 : 212.92366, return : 1.0147\n",
      "진입일 : 2017-07-06, 진입가격 : 217.011276\n",
      "청산일 : 2017-07-14, 진입가격 : 217.011276, 청산가격 : 221.531021, return : 1.0208\n",
      "진입일 : 2017-08-10, 진입가격 : 219.90715\n",
      "청산일 : 2017-09-11, 진입가격 : 219.90715, 청산가격 : 224.823822, return : 1.0224\n",
      "진입일 : 2018-02-05, 진입가격 : 240.508133\n",
      "청산일 : 2018-05-10, 진입가격 : 240.508133, 청산가격 : 248.873062, return : 1.0348\n",
      "진입일 : 2018-06-27, 진입가격 : 247.536789\n",
      "청산일 : 2018-08-07, 진입가격 : 247.536789, 청산가격 : 262.452393, return : 1.0603\n",
      "진입일 : 2018-10-10, 진입가격 : 256.9198\n",
      "청산일 : 2019-03-18, 진입가격 : 256.9198, 청산가격 : 263.316895, return : 1.0249\n",
      "진입일 : 2019-05-13, 진입가격 : 261.945923\n",
      "청산일 : 2019-07-03, 진입가격 : 261.945923, 청산가격 : 280.033203, return : 1.069\n",
      "진입일 : 2019-08-01, 진입가격 : 276.321899\n",
      "청산일 : 2019-09-05, 진입가격 : 276.321899, 청산가격 : 279.114716, return : 1.0101\n",
      "진입일 : 2019-10-01, 진입가격 : 276.091522\n",
      "청산일 : 2019-12-12, 진입가격 : 276.091522, 청산가격 : 298.584564, return : 1.0815\n",
      "진입일 : 2020-02-25, 진입가격 : 295.813721\n",
      "청산일 : 2020-05-27, 진입가격 : 295.813721, 청산가격 : 288.873596, return : 0.9765\n",
      "진입일 : 2020-10-28, 진입가격 : 313.50473\n",
      "청산일 : 2020-12-31, 진입가격 : 313.50473, 청산가격 : 360.352631, return : 1.1494\n",
      "진입일 : 2021-03-04, 진입가격 : 363.070587\n",
      "청산일 : 2021-04-05, 진입가격 : 363.070587, 청산가격 : 392.940247, return : 1.0823\n",
      "진입일 : 2021-05-12, 진입가격 : 392.021576\n",
      "청산일 : 2021-06-25, 진입가격 : 392.021576, 청산가격 : 413.871094, return : 1.0557\n",
      "진입일 : 2021-09-20, 진입가격 : 422.428223\n",
      "청산일 : 2021-10-19, 진입가격 : 422.428223, 청산가격 : 438.584137, return : 1.0382\n",
      "진입일 : 2021-11-30, 진입가격 : 443.372528\n",
      "청산일 : 2021-12-27, 진입가격 : 443.372528, 청산가격 : 466.12381, return : 1.0513\n",
      "진입일 : 2022-01-19, 진입가격 : 441.209076\n",
      "청산일 : 2022-07-20, 진입가격 : 441.209076, 청산가격 : 388.427063, return : 0.8804\n",
      "진입일 : 2022-08-30, 진입가격 : 391.811798\n",
      "청산일 : 2022-10-25, 진입가격 : 391.811798, 청산가격 : 380.291107, return : 0.9706\n",
      "진입일 : 2022-12-16, 진입가격 : 380.39978\n",
      "청산일 : 2023-01-13, 진입가격 : 380.39978, 청산가격 : 395.515717, return : 1.0397\n",
      "진입일 : 2023-03-10, 진입가격 : 383.02002\n",
      "청산일 : 2023-03-31, 진입가격 : 383.02002, 청산가격 : 407.874908, return : 1.0649\n",
      "기간: 2008/01/02 ~ 2023/06/30\n",
      "Accumulated return : 2.770655513457862\n",
      "                 Close trade  return  acc_ret\n",
      "Date                                         \n",
      "2008-01-02  107.151566           1.0      1.0\n",
      "2008-01-03  107.099800           1.0      1.0\n",
      "2008-01-04  104.475204   buy     1.0      1.0\n",
      "2008-01-07  104.386475   buy     1.0      1.0\n",
      "2008-01-08  102.700813   buy     1.0      1.0\n",
      "2008-01-09  103.780182   buy     1.0      1.0\n",
      "2008-01-10  104.460411   buy     1.0      1.0\n",
      "2008-01-11  103.617561   buy     1.0      1.0\n",
      "2008-01-14  104.453026   buy     1.0      1.0\n",
      "2008-01-15  102.153671   buy     1.0      1.0\n",
      "2008-01-16  101.273911   buy     1.0      1.0\n",
      "2008-01-17   98.649231   buy     1.0      1.0\n",
      "2008-01-18   97.636314   buy     1.0      1.0\n",
      "2008-01-22   96.645622   buy     1.0      1.0\n",
      "2008-01-23   98.967140   buy     1.0      1.0\n",
      "2008-01-24   99.802612   buy     1.0      1.0\n",
      "2008-01-25   98.360855   buy     1.0      1.0\n",
      "2008-01-28   99.987434   buy     1.0      1.0\n",
      "2008-01-29  100.482841   buy     1.0      1.0\n",
      "2008-01-30   99.743439   buy     1.0      1.0\n",
      "2008-01-31  101.562225   buy     1.0      1.0\n",
      "2008-02-01  103.196144   buy     1.0      1.0\n"
     ]
    }
   ],
   "source": [
    "def returns(book):\n",
    "    book['return'] = 1\n",
    "    buy = 0.0\n",
    "    for i in book.index:\n",
    "        if book.loc[i, 'trade'] == 'buy' and book.shift(1).loc[i, 'trade'] == '':\n",
    "            buy = book.loc[i, 'Close']\n",
    "            print(f\"진입일 : {i.strftime('%Y-%m-%d')}, 진입가격 : {buy}\")\n",
    "        elif buy != 0.0 and book.loc[i, 'trade'] == '' and book.shift(1).loc[i, 'trade'] == 'buy':\n",
    "            sell = book.loc[i, 'Close']\n",
    "            rtn = sell / buy\n",
    "            book.loc[i, 'return'] = rtn\n",
    "            print(f\"청산일 : {i.strftime('%Y-%m-%d')}, 진입가격 : {buy}, 청산가격 : {sell}, return : {round(rtn, 4)}\")\n",
    "            buy = 0.0\n",
    "\n",
    "    book['acc_ret'] = book['return'].cumprod()\n",
    "    print(f\"기간: {book.index[0].strftime('%Y/%m/%d')} ~ {book.index[-1].strftime('%Y/%m/%d')}\")\n",
    "    print(f\"Accumulated return : {book.iloc[-1]['acc_ret']}\")\n",
    "    return round(book.iloc[-1]['acc_ret'], 4)\n",
    "    # acc_rtn = 1.0\n",
    "    # for i in book.index:\n",
    "    #     rtn = book.loc[i, 'return']\n",
    "    #     acc_rtn = acc_rtn * rtn\n",
    "    #     book.loc[i, 'acc_ret'] = acc_rtn\n",
    "    # print(f\"기간: {book.index[0].strftime('%Y/%m/%d')} ~ {book.index[-1].strftime('%Y/%m/%d')}\")\n",
    "    # print(f\"Accumulated return : {acc_rtn}\")\n",
    "    # return round(acc_rtn, 4)\n",
    "\n",
    "returns(book)\n",
    "print(book.loc['2008':'2008-02-02'])"
   ],
   "metadata": {
    "collapsed": false,
    "pycharm": {
     "name": "#%%\n"
    }
   }
  },
  {
   "cell_type": "code",
   "execution_count": 14,
   "outputs": [
    {
     "name": "stdout",
     "output_type": "stream",
     "text": [
      "진입일 : 2008-01-04, 진입가격 : 104.475204\n",
      "청산일 : 2008-04-01, 진입가격 : 104.475204, 청산가격 : 101.500351, return : 0.9715\n",
      "진입일 : 2008-06-06, 진입가격 : 101.262581\n",
      "청산일 : 2009-01-02, 진입가격 : 101.262581, 청산가격 : 70.382668, return : 0.6951\n",
      "진입일 : 2009-01-20, 진입가격 : 61.001858\n",
      "청산일 : 2009-03-23, 진입가격 : 61.001858, 청산가격 : 62.696667, return : 1.0278\n",
      "진입일 : 2010-01-22, 진입가격 : 84.600212\n",
      "청산일 : 2010-04-14, 진입가격 : 84.600212, 청산가격 : 94.267174, return : 1.1143\n",
      "진입일 : 2010-05-04, 진입가격 : 91.412468\n",
      "청산일 : 2010-10-13, 진입가격 : 91.412468, 청산가격 : 92.653412, return : 1.0136\n",
      "진입일 : 2011-03-10, 진입가격 : 102.634842\n",
      "청산일 : 2011-04-26, 진입가격 : 102.634842, 청산가격 : 106.928169, return : 1.0418\n",
      "진입일 : 2011-05-23, 진입가격 : 104.762474\n",
      "청산일 : 2011-06-30, 진입가격 : 104.762474, 청산가격 : 105.210114, return : 1.0043\n",
      "진입일 : 2011-08-02, 진입가격 : 100.04409\n",
      "청산일 : 2012-02-03, 진입가격 : 100.04409, 청산가격 : 108.497688, return : 1.0845\n",
      "진입일 : 2012-04-10, 진입가격 : 110.074692\n",
      "청산일 : 2012-07-03, 진입가격 : 110.074692, 청산가격 : 111.874428, return : 1.0164\n",
      "진입일 : 2012-10-23, 진입가격 : 115.753899\n",
      "청산일 : 2012-12-18, 진입가격 : 115.753899, 청산가격 : 118.987, return : 1.0279\n",
      "진입일 : 2013-06-05, 진입가격 : 133.528793\n",
      "청산일 : 2013-07-11, 진입가격 : 133.528793, 청산가격 : 139.371002, return : 1.0438\n",
      "진입일 : 2013-08-15, 진입가격 : 138.488708\n",
      "청산일 : 2013-09-11, 진입가격 : 138.488708, 청산가격 : 141.002487, return : 1.0182\n",
      "진입일 : 2013-10-08, 진입가격 : 138.410965\n",
      "청산일 : 2013-10-17, 진입가격 : 138.410965, 청산가격 : 144.884933, return : 1.0468\n",
      "진입일 : 2014-01-24, 진입가격 : 150.439774\n",
      "청산일 : 2014-04-02, 진입가격 : 150.439774, 청산가격 : 159.541992, return : 1.0605\n",
      "진입일 : 2014-04-11, 진입가격 : 153.316742\n",
      "청산일 : 2014-05-27, 진입가격 : 153.316742, 청산가격 : 161.771942, return : 1.0551\n",
      "진입일 : 2014-07-31, 진입가격 : 163.879608\n",
      "청산일 : 2014-09-18, 진입가격 : 163.879608, 청산가격 : 171.288925, return : 1.0452\n",
      "진입일 : 2014-09-25, 진입가격 : 167.416885\n",
      "청산일 : 2016-04-13, 진입가격 : 167.416885, 청산가격 : 182.957001, return : 1.0928\n",
      "진입일 : 2016-06-24, 진입가격 : 179.699814\n",
      "청산일 : 2016-08-11, 진입가격 : 179.699814, 청산가격 : 193.32486, return : 1.0758\n",
      "진입일 : 2016-09-09, 진입가격 : 188.576874\n",
      "청산일 : 2016-12-07, 진입가격 : 188.576874, 청산가격 : 199.588837, return : 1.0584\n",
      "진입일 : 2017-03-21, 진입가격 : 209.835327\n",
      "청산일 : 2017-04-24, 진입가격 : 209.835327, 청산가격 : 212.92366, return : 1.0147\n",
      "진입일 : 2017-07-06, 진입가격 : 217.011276\n",
      "청산일 : 2017-07-14, 진입가격 : 217.011276, 청산가격 : 221.531021, return : 1.0208\n",
      "진입일 : 2017-08-10, 진입가격 : 219.90715\n",
      "청산일 : 2017-09-11, 진입가격 : 219.90715, 청산가격 : 224.823822, return : 1.0224\n",
      "진입일 : 2018-02-05, 진입가격 : 240.508133\n",
      "청산일 : 2018-05-10, 진입가격 : 240.508133, 청산가격 : 248.873062, return : 1.0348\n",
      "진입일 : 2018-06-27, 진입가격 : 247.536789\n",
      "청산일 : 2018-08-07, 진입가격 : 247.536789, 청산가격 : 262.452393, return : 1.0603\n",
      "진입일 : 2018-10-10, 진입가격 : 256.9198\n",
      "청산일 : 2019-03-18, 진입가격 : 256.9198, 청산가격 : 263.316895, return : 1.0249\n",
      "진입일 : 2019-05-13, 진입가격 : 261.945923\n",
      "청산일 : 2019-07-03, 진입가격 : 261.945923, 청산가격 : 280.033203, return : 1.069\n",
      "진입일 : 2019-08-01, 진입가격 : 276.321899\n",
      "청산일 : 2019-09-05, 진입가격 : 276.321899, 청산가격 : 279.114716, return : 1.0101\n",
      "진입일 : 2019-10-01, 진입가격 : 276.091522\n",
      "청산일 : 2019-12-12, 진입가격 : 276.091522, 청산가격 : 298.584564, return : 1.0815\n",
      "진입일 : 2020-02-25, 진입가격 : 295.813721\n",
      "청산일 : 2020-05-27, 진입가격 : 295.813721, 청산가격 : 288.873596, return : 0.9765\n",
      "진입일 : 2020-10-28, 진입가격 : 313.50473\n",
      "청산일 : 2020-12-31, 진입가격 : 313.50473, 청산가격 : 360.352631, return : 1.1494\n",
      "진입일 : 2021-03-04, 진입가격 : 363.070587\n",
      "청산일 : 2021-04-05, 진입가격 : 363.070587, 청산가격 : 392.940247, return : 1.0823\n",
      "진입일 : 2021-05-12, 진입가격 : 392.021576\n",
      "청산일 : 2021-06-25, 진입가격 : 392.021576, 청산가격 : 413.871094, return : 1.0557\n",
      "진입일 : 2021-09-20, 진입가격 : 422.428223\n",
      "청산일 : 2021-10-19, 진입가격 : 422.428223, 청산가격 : 438.584137, return : 1.0382\n",
      "진입일 : 2021-11-30, 진입가격 : 443.372528\n",
      "청산일 : 2021-12-27, 진입가격 : 443.372528, 청산가격 : 466.12381, return : 1.0513\n",
      "진입일 : 2022-01-19, 진입가격 : 441.209076\n",
      "청산일 : 2022-07-20, 진입가격 : 441.209076, 청산가격 : 388.427063, return : 0.8804\n",
      "진입일 : 2022-08-30, 진입가격 : 391.811798\n",
      "청산일 : 2022-10-25, 진입가격 : 391.811798, 청산가격 : 380.291107, return : 0.9706\n",
      "진입일 : 2022-12-16, 진입가격 : 380.39978\n",
      "청산일 : 2023-01-13, 진입가격 : 380.39978, 청산가격 : 395.515717, return : 1.0397\n",
      "진입일 : 2023-03-10, 진입가격 : 383.02002\n",
      "청산일 : 2023-03-31, 진입가격 : 383.02002, 청산가격 : 407.874908, return : 1.0649\n",
      "기간: 2008/01/02 ~ 2023/06/30\n",
      "Accumulated return : 2.770655513457875\n"
     ]
    },
    {
     "data": {
      "text/plain": "                 Close trade    return   acc_ret\nDate                                            \n2008-03-03   98.701012   buy  0.997609  0.944731\n2008-03-04   98.323944   buy  0.996180  0.941122\n2008-03-05   98.944946   buy  1.006316  0.947066\n2008-03-06   96.897018   buy  0.979302  0.927464\n2008-03-07   95.898933   buy  0.989700  0.917911\n2008-03-10   94.634651   buy  0.986817  0.905810\n2008-03-11   98.035606   buy  1.035938  0.938362\n2008-03-12   97.118843   buy  0.990649  0.929587\n2008-03-13   97.333229   buy  1.002207  0.931640\n2008-03-14   95.824966   buy  0.984504  0.917203\n2008-03-17   94.856430   buy  0.989893  0.907932\n2008-03-18   98.797096   buy  1.041543  0.945651\n2008-03-19   96.349930   buy  0.975230  0.922228\n2008-03-20   98.134575   buy  1.018523  0.939310\n2008-03-24  100.096085   buy  1.019988  0.958085\n2008-03-25  100.192665   buy  1.000965  0.959009\n2008-03-26   98.966751   buy  0.987764  0.947275\n2008-03-27   98.654694   buy  0.996847  0.944288\n2008-03-28   97.711067   buy  0.990435  0.935256\n2008-03-31   98.052856   buy  1.003498  0.938528\n2008-04-01  101.500351        1.035160  0.971526\n2008-04-02  101.567253        1.000000  0.971526",
      "text/html": "<div>\n<style scoped>\n    .dataframe tbody tr th:only-of-type {\n        vertical-align: middle;\n    }\n\n    .dataframe tbody tr th {\n        vertical-align: top;\n    }\n\n    .dataframe thead th {\n        text-align: right;\n    }\n</style>\n<table border=\"1\" class=\"dataframe\">\n  <thead>\n    <tr style=\"text-align: right;\">\n      <th></th>\n      <th>Close</th>\n      <th>trade</th>\n      <th>return</th>\n      <th>acc_ret</th>\n    </tr>\n    <tr>\n      <th>Date</th>\n      <th></th>\n      <th></th>\n      <th></th>\n      <th></th>\n    </tr>\n  </thead>\n  <tbody>\n    <tr>\n      <th>2008-03-03</th>\n      <td>98.701012</td>\n      <td>buy</td>\n      <td>0.997609</td>\n      <td>0.944731</td>\n    </tr>\n    <tr>\n      <th>2008-03-04</th>\n      <td>98.323944</td>\n      <td>buy</td>\n      <td>0.996180</td>\n      <td>0.941122</td>\n    </tr>\n    <tr>\n      <th>2008-03-05</th>\n      <td>98.944946</td>\n      <td>buy</td>\n      <td>1.006316</td>\n      <td>0.947066</td>\n    </tr>\n    <tr>\n      <th>2008-03-06</th>\n      <td>96.897018</td>\n      <td>buy</td>\n      <td>0.979302</td>\n      <td>0.927464</td>\n    </tr>\n    <tr>\n      <th>2008-03-07</th>\n      <td>95.898933</td>\n      <td>buy</td>\n      <td>0.989700</td>\n      <td>0.917911</td>\n    </tr>\n    <tr>\n      <th>2008-03-10</th>\n      <td>94.634651</td>\n      <td>buy</td>\n      <td>0.986817</td>\n      <td>0.905810</td>\n    </tr>\n    <tr>\n      <th>2008-03-11</th>\n      <td>98.035606</td>\n      <td>buy</td>\n      <td>1.035938</td>\n      <td>0.938362</td>\n    </tr>\n    <tr>\n      <th>2008-03-12</th>\n      <td>97.118843</td>\n      <td>buy</td>\n      <td>0.990649</td>\n      <td>0.929587</td>\n    </tr>\n    <tr>\n      <th>2008-03-13</th>\n      <td>97.333229</td>\n      <td>buy</td>\n      <td>1.002207</td>\n      <td>0.931640</td>\n    </tr>\n    <tr>\n      <th>2008-03-14</th>\n      <td>95.824966</td>\n      <td>buy</td>\n      <td>0.984504</td>\n      <td>0.917203</td>\n    </tr>\n    <tr>\n      <th>2008-03-17</th>\n      <td>94.856430</td>\n      <td>buy</td>\n      <td>0.989893</td>\n      <td>0.907932</td>\n    </tr>\n    <tr>\n      <th>2008-03-18</th>\n      <td>98.797096</td>\n      <td>buy</td>\n      <td>1.041543</td>\n      <td>0.945651</td>\n    </tr>\n    <tr>\n      <th>2008-03-19</th>\n      <td>96.349930</td>\n      <td>buy</td>\n      <td>0.975230</td>\n      <td>0.922228</td>\n    </tr>\n    <tr>\n      <th>2008-03-20</th>\n      <td>98.134575</td>\n      <td>buy</td>\n      <td>1.018523</td>\n      <td>0.939310</td>\n    </tr>\n    <tr>\n      <th>2008-03-24</th>\n      <td>100.096085</td>\n      <td>buy</td>\n      <td>1.019988</td>\n      <td>0.958085</td>\n    </tr>\n    <tr>\n      <th>2008-03-25</th>\n      <td>100.192665</td>\n      <td>buy</td>\n      <td>1.000965</td>\n      <td>0.959009</td>\n    </tr>\n    <tr>\n      <th>2008-03-26</th>\n      <td>98.966751</td>\n      <td>buy</td>\n      <td>0.987764</td>\n      <td>0.947275</td>\n    </tr>\n    <tr>\n      <th>2008-03-27</th>\n      <td>98.654694</td>\n      <td>buy</td>\n      <td>0.996847</td>\n      <td>0.944288</td>\n    </tr>\n    <tr>\n      <th>2008-03-28</th>\n      <td>97.711067</td>\n      <td>buy</td>\n      <td>0.990435</td>\n      <td>0.935256</td>\n    </tr>\n    <tr>\n      <th>2008-03-31</th>\n      <td>98.052856</td>\n      <td>buy</td>\n      <td>1.003498</td>\n      <td>0.938528</td>\n    </tr>\n    <tr>\n      <th>2008-04-01</th>\n      <td>101.500351</td>\n      <td></td>\n      <td>1.035160</td>\n      <td>0.971526</td>\n    </tr>\n    <tr>\n      <th>2008-04-02</th>\n      <td>101.567253</td>\n      <td></td>\n      <td>1.000000</td>\n      <td>0.971526</td>\n    </tr>\n  </tbody>\n</table>\n</div>"
     },
     "execution_count": 14,
     "metadata": {},
     "output_type": "execute_result"
    }
   ],
   "source": [
    "def returns2(book):\n",
    "    book['return'] = 1\n",
    "    buy = 0.0\n",
    "    for i,x in enumerate(book.index):\n",
    "        if book.loc[x, 'trade'] == 'buy' and (i==0 or book.shift(1).loc[x, 'trade'] == ''):\n",
    "            buy = book.loc[x, 'Close']\n",
    "            print(f\"진입일 : {x.strftime('%Y-%m-%d')}, 진입가격 : {buy}\")\n",
    "        elif buy != 0.0 and book.loc[x, 'trade'] == '' and book.shift(1).loc[x, 'trade'] == 'buy':\n",
    "            sell = book.loc[x, 'Close']\n",
    "            rtn = sell / buy\n",
    "            print(f\"청산일 : {x.strftime('%Y-%m-%d')}, 진입가격 : {buy}, 청산가격 : {sell}, return : {round(rtn, 4)}\")\n",
    "            buy = 0.0\n",
    "        if book.shift(1).loc[x, 'trade'] == 'buy' and i!=0:\n",
    "            book.loc[x, 'return'] = book.loc[x, 'Close'] / book.shift(1).loc[x, 'Close']\n",
    "    book['acc_ret'] = book['return'].cumprod()\n",
    "    print(f\"기간: {book.index[0].strftime('%Y/%m/%d')} ~ {book.index[-1].strftime('%Y/%m/%d')}\")\n",
    "    print(f\"Accumulated return : {book.iloc[-1]['acc_ret']}\")\n",
    "    return round(book.iloc[-1]['acc_ret'], 4)\n",
    "\n",
    "returns2(book)\n",
    "book.loc['2008-03':'2008-04-02']"
   ],
   "metadata": {
    "collapsed": false,
    "pycharm": {
     "name": "#%%\n"
    }
   }
  },
  {
   "cell_type": "code",
   "execution_count": 15,
   "outputs": [
    {
     "name": "stdout",
     "output_type": "stream",
     "text": [
      "기간: 2008/01/02 ~ 2023/06/30\n",
      "최종 수익률: 2.770655513457875\n",
      "cagr: 1.0680468651627113\n",
      "mdd: 45.63454085588026\n",
      "vol: 0.18142077944325907\n",
      "sharpe: 0.45367646330004263\n"
     ]
    }
   ],
   "source": [
    "def get_evaluation(daily_return):\n",
    "    \"\"\"\n",
    "    cagr, dd, mdd, vol, sharpe\n",
    "    투자 성과 지표\n",
    "    \"\"\"\n",
    "    # cumulativeReturn\n",
    "    cumulativeReturn = daily_return.cumprod()\n",
    "    # cagr\n",
    "    cagr = cumulativeReturn.iloc[-1] ** (252/len(cumulativeReturn))\n",
    "    # mdd\n",
    "    dd = (cumulativeReturn.cummax() - cumulativeReturn) / cumulativeReturn.cummax() * 100\n",
    "    mdd= dd.max()\n",
    "    vol = np.std(daily_return-1) * np.sqrt(252)\n",
    "    sharpe = np.mean(daily_return-1) * 252 / vol\n",
    "\n",
    "    print(f\"기간: {daily_return.index[0].strftime('%Y/%m/%d')} ~ {daily_return.index[-1].strftime('%Y/%m/%d')}\")\n",
    "    print(f\"최종 수익률: {cumulativeReturn.iloc[-1]}\\ncagr: {cagr}\\nmdd: {mdd}\\nvol: {vol}\\nsharpe: {sharpe}\")\n",
    "\n",
    "    return cagr, dd, mdd, vol, sharpe\n",
    "\n",
    "cagr, _, mdd, vol, sharp = get_evaluation(book.loc[:,'return'])"
   ],
   "metadata": {
    "collapsed": false,
    "pycharm": {
     "name": "#%%\n"
    }
   }
  },
  {
   "cell_type": "code",
   "execution_count": 16,
   "outputs": [
    {
     "data": {
      "text/plain": "<Axes: xlabel='Date'>"
     },
     "execution_count": 16,
     "metadata": {},
     "output_type": "execute_result"
    },
    {
     "data": {
      "text/plain": "<Figure size 640x480 with 1 Axes>",
      "image/png": "[encoded data removed]"
     },
     "metadata": {},
     "output_type": "display_data"
    }
   ],
   "source": [
    "book['return'].plot()"
   ],
   "metadata": {
    "collapsed": false,
    "pycharm": {
     "name": "#%%\n"
    }
   }
  },
  {
   "cell_type": "markdown",
   "source": [
    "### 4.2.7 변화 추이"
   ],
   "metadata": {
    "collapsed": false
   }
  },
  {
   "cell_type": "code",
   "execution_count": 17,
   "outputs": [
    {
     "data": {
      "text/plain": "<Axes: xlabel='Date'>"
     },
     "execution_count": 17,
     "metadata": {},
     "output_type": "execute_result"
    },
    {
     "data": {
      "text/plain": "<Figure size 640x480 with 1 Axes>",
      "image/png": "[encoded data removed]"
     },
     "metadata": {},
     "output_type": "display_data"
    }
   ],
   "source": [
    "book['acc_ret'].plot()"
   ],
   "metadata": {
    "collapsed": false,
    "pycharm": {
     "name": "#%%\n"
    }
   }
  },
  {
   "cell_type": "markdown",
   "source": [],
   "metadata": {
    "collapsed": false,
    "pycharm": {
     "name": "#%% md\n"
    }
   }
  }
 ],
 "metadata": {
  "kernelspec": {
   "display_name": "Python 3",
   "language": "python",
   "name": "python3"
  },
  "language_info": {
   "codemirror_mode": {
    "name": "ipython",
    "version": 2
   },
   "file_extension": ".py",
   "mimetype": "text/x-python",
   "name": "python",
   "nbconvert_exporter": "python",
   "pygments_lexer": "ipython2",
   "version": "2.7.6"
  }
 },
 "nbformat": 4,
 "nbformat_minor": 0
}