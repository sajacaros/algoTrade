{
 "cells": [
  {
   "cell_type": "markdown",
   "metadata": {
    "collapsed": true,
    "pycharm": {
     "name": "#%% md\n"
    }
   },
   "source": [
    "# CHAPTER 6 머신러닝을 이용한 투자 전략\n",
    "\n",
    "## 6.1 ETFs를 활용한 주가 방향 예측\n",
    "### 6.1.1 데이터\n",
    "### 6.1.2 모델 학습\n",
    "### 6.1.3 머신러닝 모델을 활용한 결과 예측\n",
    "### 6.1.4 확장 가능한 방법\n",
    "\n",
    "## 6.2 k-최근접 이웃 알고리즘을 활용한 투자 전략\n",
    "### 6.2.1 데이터\n",
    "### 6.2.2 모델 학습\n",
    "\n",
    "## 6.3 클러스터링 알고리즘을 활용한 종목 분류\n",
    "### 6.3.1 데이터\n",
    "### 6.3.2 클러스터링\n",
    "\n",
    "## 6.4 마치며"
   ]
  }
 ],
 "metadata": {
  "kernelspec": {
   "display_name": "Python 3",
   "language": "python",
   "name": "python3"
  },
  "language_info": {
   "codemirror_mode": {
    "name": "ipython",
    "version": 2
   },
   "file_extension": ".py",
   "mimetype": "text/x-python",
   "name": "python",
   "nbconvert_exporter": "python",
   "pygments_lexer": "ipython2",
   "version": "2.7.6"
  }
 },
 "nbformat": 4,
 "nbformat_minor": 0
}