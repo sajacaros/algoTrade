{
 "cells": [
  {
   "cell_type": "markdown",
   "metadata": {
    "collapsed": true,
    "pycharm": {
     "name": "#%% md\n"
    }
   },
   "source": [
    "# CHAPTER 8 딥러닝을 이용한 투자 전략\n",
    "\n",
    "## 8.1 CNN을 활용한 캔들차트 예측 분석\n",
    "### 8.1.1 데이터\n",
    "* 데이터 전처리 과정\n",
    "    * 데이터 소스로부터 레이블 데이터 만들기\n",
    "    * 데이터 소스로부터 캔들차트 만들기\n",
    "    * 레이블에 따라 캔들차트 분리하기\n",
    "    * 학습을 위해 캔들차트 복사하기"
   ]
  },
  {
   "cell_type": "markdown",
   "source": [
    "### 8.1.2 모델 구조"
   ],
   "metadata": {
    "collapsed": false
   }
  },
  {
   "cell_type": "markdown",
   "source": [
    "### 8.1.3 모델 학습"
   ],
   "metadata": {
    "collapsed": false
   }
  },
  {
   "cell_type": "code",
   "execution_count": 1,
   "outputs": [],
   "source": [
    "from core.utils import *"
   ],
   "metadata": {
    "collapsed": false,
    "pycharm": {
     "name": "#%%\n"
    }
   }
  },
  {
   "cell_type": "code",
   "execution_count": 2,
   "outputs": [],
   "source": [
    "class deepcandle:\n",
    "\n",
    "    def __init__(self, config_path):\n",
    "        config = read_config(config_path)\n",
    "        self.label = config['base']['label']\n",
    "        self.img_size = int(config['base']['img_size'])\n",
    "        self.tickers = config['base']['tickers']\n",
    "        self.train_start_date = config['base']['train_start'] if config['base']['train_start'] else None\n",
    "        self.train_end_date = config['base']['train_end'] if config['base']['train_end'] else None\n",
    "        self.test_start_date = config['base']['test_start'] if config['base']['test_start'] else None\n",
    "        self.test_end_date = config['base']['test_end'] if config['base']['test_end'] else None\n",
    "        self.window_size = int(config['base']['window_size'])\n",
    "        self.clean = int(config['base']['clean'])\n",
    "\n",
    "    def clean_dataset(self):\n",
    "        import shutil\n",
    "        try:\n",
    "            shutil.rmtree('dataset')\n",
    "        except:\n",
    "            pass\n",
    "\n",
    "    def generate_dataset(self, ticker):\n",
    "        print(f'===== Generating {ticker} ====')\n",
    "        df_train = get_ticker_data(\n",
    "            ticker,\n",
    "            self.train_start_date,\n",
    "            self.train_end_date)\n",
    "        df_test = get_ticker_data(\n",
    "            ticker,\n",
    "            self.test_start_date,\n",
    "            self.test_end_date)\n",
    "        if df_train is None or df_test is None:\n",
    "            return None, None\n",
    "        return df_train, df_test\n",
    "\n",
    "    def add_label(self, df_train, df_test):\n",
    "        \"\"\"\n",
    "        Add Label column in dataframe\n",
    "        Current close > previous close price ? true : false\n",
    "        \"\"\"\n",
    "        df_train[self.label] = df_train['Close'] > df_train['Close'].shift()\n",
    "        df_test[self.label] = df_test['Close'] > df_test['Close'].shift()\n",
    "        return df_train, df_test\n",
    "\n",
    "\n",
    "    def convert_to_candlestick(self, ticker, df_train, df_test):\n",
    "        \"\"\"\n",
    "        Method to convert from timeseries dataframe to candlestick chart\n",
    "        Label taken from the next day data.\n",
    "        Example: 5 windows size will generate candlestick chart from day 1 to day 5,\n",
    "        and label will be the day 6.\n",
    "        \"\"\"\n",
    "        for data_type in ['train', 'test']:\n",
    "            ticker_data = df_train if data_type == 'train' else df_test\n",
    "            groups, num_chunks = split_dataframe(ticker_data, self.window_size)\n",
    "            for idx, group in enumerate(groups):\n",
    "                if idx == num_chunks-2: # 마지지막 group은 제외\n",
    "                    break\n",
    "                if len(group) == self.window_size and groups[idx].iloc[0]['Close']:\n",
    "                    label = '1' if groups[idx+1].iloc[0].Label else '0' # groups[idx+1].iloc[0]: 현재 그룹 다음 날\n",
    "                    dir_path = 'dataset/' + data_type + '/' + label + '/'\n",
    "                    file_name = ticker + '_' + str(idx) + '.jpg'\n",
    "                    save_to_candlestick(group,\n",
    "                                        self.img_size,\n",
    "                                        dir_path,\n",
    "                                        file_name)\n",
    "\n",
    "    def start(self):\n",
    "        \"\"\"\n",
    "        Start preprocessing data.\n",
    "        1. Add label from ticker data based on config\n",
    "        2. Convert to Candlestick chart and save to path based on the label.\n",
    "        3. Run CNN model\n",
    "        \"\"\"\n",
    "        if self.clean:\n",
    "            self.clean_dataset()\n",
    "            print(f'tickers : {self.tickers}')\n",
    "            for ticker in self.tickers.split(','):\n",
    "                df_train, df_test = self.generate_dataset(ticker)\n",
    "                if df_train is None or df_test is None:\n",
    "                    continue\n",
    "                df_train, df_test = self.add_label(df_train, df_test)\n",
    "                self.convert_to_candlestick(ticker, df_train, df_test)\n",
    "\n",
    "        from core.cnn import cnn\n",
    "        cnn_model = cnn('config.ini')\n",
    "        cnn_model.run_model()"
   ],
   "metadata": {
    "collapsed": false,
    "pycharm": {
     "name": "#%%\n"
    }
   }
  },
  {
   "cell_type": "code",
   "execution_count": null,
   "outputs": [
    {
     "name": "stdout",
     "output_type": "stream",
     "text": [
      "tickers : 005930.KS,000660.KS,006400.KS,005380.KS,000270.KS,005490.KS,035420.KS,066570.KS\n",
      "===== Generating 005930.KS ====\n",
      "[*********************100%***********************]  1 of 1 completed\n",
      "[*********************100%***********************]  1 of 1 completed\n",
      "===== Generating 000660.KS ====\n",
      "[*********************100%***********************]  1 of 1 completed\n",
      "[*********************100%***********************]  1 of 1 completed\n",
      "===== Generating 006400.KS ====\n",
      "[*********************100%***********************]  1 of 1 completed\n",
      "[*********************100%***********************]  1 of 1 completed\n",
      "===== Generating 005380.KS ====\n",
      "[*********************100%***********************]  1 of 1 completed\n",
      "[*********************100%***********************]  1 of 1 completed\n",
      "===== Generating 000270.KS ====\n",
      "[*********************100%***********************]  1 of 1 completed\n",
      "[*********************100%***********************]  1 of 1 completed\n",
      "===== Generating 005490.KS ====\n",
      "[*********************100%***********************]  1 of 1 completed\n",
      "[*********************100%***********************]  1 of 1 completed\n",
      "===== Generating 035420.KS ====\n",
      "[*********************100%***********************]  1 of 1 completed\n",
      "[*********************100%***********************]  1 of 1 completed\n",
      "===== Generating 066570.KS ====\n",
      "[*********************100%***********************]  1 of 1 completed\n",
      "[*********************100%***********************]  1 of 1 completed\n",
      "Model: \"sequential\"\n",
      "_________________________________________________________________\n",
      " Layer (type)                Output Shape              Param #   \n",
      "=================================================================\n",
      " conv2d (Conv2D)             (None, 128, 128, 32)      896       \n",
      "                                                                 \n",
      " max_pooling2d (MaxPooling2  (None, 64, 64, 32)        0         \n",
      " D)                                                              \n",
      "                                                                 \n",
      " conv2d_1 (Conv2D)           (None, 64, 64, 48)        13872     \n",
      "                                                                 \n",
      " max_pooling2d_1 (MaxPoolin  (None, 32, 32, 48)        0         \n",
      " g2D)                                                            \n",
      "                                                                 \n",
      " module_wrapper (ModuleWrap  (None, 32, 32, 48)        0         \n",
      " per)                                                            \n",
      "                                                                 \n",
      " conv2d_2 (Conv2D)           (None, 32, 32, 64)        27712     \n",
      "                                                                 \n",
      " max_pooling2d_2 (MaxPoolin  (None, 16, 16, 64)        0         \n",
      " g2D)                                                            \n",
      "                                                                 \n",
      " conv2d_3 (Conv2D)           (None, 16, 16, 96)        55392     \n",
      "                                                                 \n",
      " max_pooling2d_3 (MaxPoolin  (None, 8, 8, 96)          0         \n",
      " g2D)                                                            \n",
      "                                                                 \n",
      " module_wrapper_1 (ModuleWr  (None, 8, 8, 96)          0         \n",
      " apper)                                                          \n",
      "                                                                 \n",
      " flatten (Flatten)           (None, 6144)              0         \n",
      "                                                                 \n",
      " dense (Dense)               (None, 256)               1573120   \n",
      "                                                                 \n",
      " module_wrapper_2 (ModuleWr  (None, 256)               0         \n",
      " apper)                                                          \n",
      "                                                                 \n",
      " dense_1 (Dense)             (None, 2)                 514       \n",
      "                                                                 \n",
      "=================================================================\n",
      "Total params: 1671506 (6.38 MB)\n",
      "Trainable params: 1671506 (6.38 MB)\n",
      "Non-trainable params: 0 (0.00 Byte)\n",
      "_________________________________________________________________\n",
      "None\n",
      "Epoch 1/100\n",
      "20/20 [==============================] - 15s 673ms/step - loss: 5.9238 - accuracy: 0.4858\n",
      "Epoch 2/100\n",
      "20/20 [==============================] - 16s 806ms/step - loss: 2.4922 - accuracy: 0.5063\n",
      "Epoch 3/100\n",
      "20/20 [==============================] - 16s 805ms/step - loss: 1.3219 - accuracy: 0.5393\n",
      "Epoch 4/100\n",
      "20/20 [==============================] - 15s 760ms/step - loss: 1.0027 - accuracy: 0.5267\n",
      "Epoch 5/100\n",
      "20/20 [==============================] - 17s 830ms/step - loss: 0.8612 - accuracy: 0.5511\n",
      "Epoch 6/100\n",
      "20/20 [==============================] - 16s 801ms/step - loss: 0.7984 - accuracy: 0.5142\n",
      "Epoch 7/100\n",
      "20/20 [==============================] - 18s 912ms/step - loss: 0.7679 - accuracy: 0.5134\n",
      "Epoch 8/100\n",
      "11/20 [===============>..............] - ETA: 7s - loss: 0.7325 - accuracy: 0.5327"
     ]
    }
   ],
   "source": [
    "deepcandle('config.ini').start()"
   ],
   "metadata": {
    "collapsed": false,
    "pycharm": {
     "name": "#%%\n",
     "is_executing": true
    }
   }
  },
  {
   "cell_type": "markdown",
   "source": [
    "### 8.1.4 모델을 활용한 결과 예측\n",
    "* confusion matrix\n",
    "    * ![confustion matrix](../images/confusion.PNG)\n",
    "    * 정확도\n",
    "        * accuracy\n",
    "        * 맞게 예측한 비율\n",
    "        * `(TP+TN) / (TP+TN+FP+FN)`\n",
    "    * 정밀도\n",
    "        * precision\n",
    "        * Positive라고 예측한 것들 중 실제 Positive의 비율\n",
    "        * `TP / (TP+FP)`\n",
    "    * 재현율\n",
    "        * recall\n",
    "        * 실제 Positive 중에서 Positive라고 예측한 비율\n",
    "        * `TP / (TP+FN)`\n",
    "    * f-score\n",
    "        * `2 * (정밀도*재현율) / (정밀도+재현율)`"
   ],
   "metadata": {
    "collapsed": false
   }
  },
  {
   "cell_type": "markdown",
   "source": [
    "### 8.1.5 요약"
   ],
   "metadata": {
    "collapsed": false
   }
  }
 ],
 "metadata": {
  "kernelspec": {
   "display_name": "Python 3",
   "language": "python",
   "name": "python3"
  },
  "language_info": {
   "codemirror_mode": {
    "name": "ipython",
    "version": 2
   },
   "file_extension": ".py",
   "mimetype": "text/x-python",
   "name": "python",
   "nbconvert_exporter": "python",
   "pygments_lexer": "ipython2",
   "version": "2.7.6"
  }
 },
 "nbformat": 4,
 "nbformat_minor": 0
}