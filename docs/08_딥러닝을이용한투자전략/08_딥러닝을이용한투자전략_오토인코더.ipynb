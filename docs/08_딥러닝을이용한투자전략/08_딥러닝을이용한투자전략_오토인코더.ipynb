{
 "cells": [
  {
   "cell_type": "markdown",
   "metadata": {
    "collapsed": true,
    "pycharm": {
     "name": "#%% md\n"
    }
   },
   "source": [
    "# CHAPTER 8 딥러닝을 이용한 투자 전략\n",
    "## 8.3 오토인코더를 활용한 주가 데이터 생성\n",
    "### 8.3.1 데이터\n",
    "### 8.3.2 모델 구조\n",
    "### 8.3.3 모델 학습 및 예측\n",
    "### 8.3.4 오토인코더 모델로 새로운 특성 생성하기\n",
    "### 8.3.5 요약\n",
    "\n",
    "## 8.4 마치며"
   ]
  }
 ],
 "metadata": {
  "kernelspec": {
   "display_name": "Python 3",
   "language": "python",
   "name": "python3"
  },
  "language_info": {
   "codemirror_mode": {
    "name": "ipython",
    "version": 2
   },
   "file_extension": ".py",
   "mimetype": "text/x-python",
   "name": "python",
   "nbconvert_exporter": "python",
   "pygments_lexer": "ipython2",
   "version": "2.7.6"
  }
 },
 "nbformat": 4,
 "nbformat_minor": 0
}